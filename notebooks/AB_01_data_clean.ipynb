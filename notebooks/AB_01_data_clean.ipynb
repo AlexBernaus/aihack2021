{
 "cells": [
  {
   "cell_type": "code",
   "execution_count": 1,
   "metadata": {
    "collapsed": true
   },
   "outputs": [],
   "source": [
    "import pandas as pd\n",
    "import numpy as np\n",
    "import matplotlib.pyplot as plt\n",
    "import seaborn as sns"
   ]
  },
  {
   "cell_type": "code",
   "execution_count": 2,
   "outputs": [],
   "source": [
    "bondville = pd.read_csv(\"../data/processed/processed_bondville_data.csv\")\n",
    "dekalb = pd.read_csv(\"../data/processed/processed_dekalb_data.csv\")\n",
    "rendlake = pd.read_csv(\"../data/processed/processed_rend_lake_data.csv\")"
   ],
   "metadata": {
    "collapsed": false,
    "pycharm": {
     "name": "#%%\n"
    }
   }
  },
  {
   "cell_type": "code",
   "execution_count": 3,
   "outputs": [
    {
     "name": "stdout",
     "output_type": "stream",
     "text": [
      "<class 'pandas.core.frame.DataFrame'>\n",
      "RangeIndex: 11103 entries, 0 to 11102\n",
      "Data columns (total 22 columns):\n",
      " #   Column                Non-Null Count  Dtype \n",
      "---  ------                --------------  ----- \n",
      " 0   year                  11097 non-null  object\n",
      " 1   month                 11095 non-null  object\n",
      " 2   day                   11093 non-null  object\n",
      " 3   max_wind_gust         11093 non-null  object\n",
      " 4   avg_wind_speed        11092 non-null  object\n",
      " 5   avg_wind_dir          11092 non-null  object\n",
      " 6   sol_rad               11092 non-null  object\n",
      " 7   max_air_temp          11092 non-null  object\n",
      " 8   min_air_temp          11092 non-null  object\n",
      " 9   avg_air_temp          11092 non-null  object\n",
      " 10  max_rel_hum           11092 non-null  object\n",
      " 11  min_rel_hum           11092 non-null  object\n",
      " 12  avg_rel_hum           11092 non-null  object\n",
      " 13  avg_dewpt_temp        11092 non-null  object\n",
      " 14  precip                11092 non-null  object\n",
      " 15  pot_evapot            11092 non-null  object\n",
      " 16  max_soiltemp_4in_sod  11092 non-null  object\n",
      " 17  min_soiltemp_4in_sod  11092 non-null  object\n",
      " 18  avg_soiltemp_4in_sod  11092 non-null  object\n",
      " 19  max_soiltemp_8in_sod  11092 non-null  object\n",
      " 20  min_soiltemp_8in_sod  11092 non-null  object\n",
      " 21  avg_soiltemp_8in_sod  11092 non-null  object\n",
      "dtypes: object(22)\n",
      "memory usage: 1.9+ MB\n"
     ]
    }
   ],
   "source": [
    "bondville.info()"
   ],
   "metadata": {
    "collapsed": false,
    "pycharm": {
     "name": "#%%\n"
    }
   }
  },
  {
   "cell_type": "code",
   "execution_count": 4,
   "outputs": [
    {
     "name": "stdout",
     "output_type": "stream",
     "text": [
      "<class 'pandas.core.frame.DataFrame'>\n",
      "RangeIndex: 11698 entries, 0 to 11697\n",
      "Data columns (total 22 columns):\n",
      " #   Column                Non-Null Count  Dtype  \n",
      "---  ------                --------------  -----  \n",
      " 0   year                  11694 non-null  object \n",
      " 1   month                 11691 non-null  object \n",
      " 2   day                   11690 non-null  object \n",
      " 3   max_wind_gust         11690 non-null  object \n",
      " 4   avg_wind_speed        11689 non-null  object \n",
      " 5   avg_wind_dir          11689 non-null  object \n",
      " 6   sol_rad               11689 non-null  float64\n",
      " 7   max_air_temp          11689 non-null  object \n",
      " 8   min_air_temp          11689 non-null  object \n",
      " 9   avg_air_temp          11689 non-null  object \n",
      " 10  max_rel_hum           11689 non-null  float64\n",
      " 11  min_rel_hum           11689 non-null  float64\n",
      " 12  avg_rel_hum           11689 non-null  float64\n",
      " 13  avg_dewpt_temp        11689 non-null  object \n",
      " 14  precip                11689 non-null  object \n",
      " 15  pot_evapot            11689 non-null  object \n",
      " 16  max_soiltemp_4in_sod  11689 non-null  object \n",
      " 17  min_soiltemp_4in_sod  11689 non-null  object \n",
      " 18  avg_soiltemp_4in_sod  11689 non-null  object \n",
      " 19  max_soiltemp_8in_sod  11689 non-null  object \n",
      " 20  min_soiltemp_8in_sod  11689 non-null  object \n",
      " 21  avg_soiltemp_8in_sod  11689 non-null  object \n",
      "dtypes: float64(4), object(18)\n",
      "memory usage: 2.0+ MB\n"
     ]
    }
   ],
   "source": [
    "dekalb.info()"
   ],
   "metadata": {
    "collapsed": false,
    "pycharm": {
     "name": "#%%\n"
    }
   }
  },
  {
   "cell_type": "code",
   "execution_count": 5,
   "outputs": [
    {
     "name": "stdout",
     "output_type": "stream",
     "text": [
      "<class 'pandas.core.frame.DataFrame'>\n",
      "RangeIndex: 11228 entries, 0 to 11227\n",
      "Data columns (total 23 columns):\n",
      " #   Column                Non-Null Count  Dtype  \n",
      "---  ------                --------------  -----  \n",
      " 0   year                  11221 non-null  object \n",
      " 1   month                 11216 non-null  float64\n",
      " 2   day                   11216 non-null  float64\n",
      " 3   max_wind_gust         11216 non-null  object \n",
      " 4   avg_wind_speed        11216 non-null  object \n",
      " 5   avg_wind_dir          11216 non-null  object \n",
      " 6   sol_rad               11216 non-null  object \n",
      " 7   max_air_temp          11216 non-null  object \n",
      " 8   min_air_temp          11216 non-null  object \n",
      " 9   avg_air_temp          11216 non-null  object \n",
      " 10  max_rel_hum           11216 non-null  object \n",
      " 11  min_rel_hum           11216 non-null  object \n",
      " 12  avg_rel_hum           11216 non-null  object \n",
      " 13  avg_dewpt_temp        11216 non-null  object \n",
      " 14  precip                11216 non-null  object \n",
      " 15  pot_evapot            11216 non-null  object \n",
      " 16  max_soiltemp_4in_sod  11216 non-null  object \n",
      " 17  min_soiltemp_4in_sod  11216 non-null  object \n",
      " 18  avg_soiltemp_4in_sod  11216 non-null  object \n",
      " 19  max_soiltemp_8in_sod  11216 non-null  object \n",
      " 20  min_soiltemp_8in_sod  11216 non-null  object \n",
      " 21  nst8soder             7900 non-null   object \n",
      " 22  avg_soiltemp_8in_sod  11216 non-null  object \n",
      "dtypes: float64(2), object(21)\n",
      "memory usage: 2.0+ MB\n"
     ]
    }
   ],
   "source": [
    "rendlake.info()"
   ],
   "metadata": {
    "collapsed": false,
    "pycharm": {
     "name": "#%%\n"
    }
   }
  },
  {
   "cell_type": "code",
   "execution_count": 6,
   "outputs": [],
   "source": [
    "rendlake.drop(\"nst8soder\", axis=1, inplace=True)\n"
   ],
   "metadata": {
    "collapsed": false,
    "pycharm": {
     "name": "#%%\n"
    }
   }
  },
  {
   "cell_type": "code",
   "execution_count": 7,
   "outputs": [
    {
     "data": {
      "text/plain": "   year  month   day max_wind_gust avg_wind_speed avg_wind_dir sol_rad  \\\n0  1990    4.0  18.0          24.2            7.9         73.3   27.77   \n1  1990    4.0  19.0          15.2            4.4        122.2    6.87   \n2  1990    4.0  20.0          24.7            7.1        193.6    4.56   \n3  1990    4.0  21.0          14.4            3.9        350.8   18.29   \n4  1990    4.0  22.0            10            2.7           99   24.87   \n\n  max_air_temp min_air_temp avg_air_temp  ... avg_rel_hum avg_dewpt_temp  \\\n0         57.5         35.7         47.1  ...        52.4           29.1   \n1         62.4         43.6         54.1  ...        79.9             48   \n2         67.4         60.7         63.9  ...        94.1           62.1   \n3         70.5         54.8         63.5  ...        94.1           61.7   \n4         76.2         48.2         63.7  ...          82           57.6   \n\n  precip pot_evapot max_soiltemp_4in_sod min_soiltemp_4in_sod  \\\n0      0       0.19                 56.3                 45.6   \n1      0       0.05                 54.1                   48   \n2   0.01       0.04                 57.7                   52   \n3      0       0.15                 65.5                 55.4   \n4      0       0.21                 68.3                 55.1   \n\n  avg_soiltemp_4in_sod max_soiltemp_8in_sod min_soiltemp_8in_sod  \\\n0                 50.7                 53.7                 48.2   \n1                 51.1                 53.2                 49.4   \n2                 54.9                 55.9                 51.5   \n3                 59.9                 60.7                 54.2   \n4                 61.3                 62.9                 55.6   \n\n  avg_soiltemp_8in_sod  \n0                 51.1  \n1                 51.3  \n2                 53.4  \n3                   57  \n4                   59  \n\n[5 rows x 22 columns]",
      "text/html": "<div>\n<style scoped>\n    .dataframe tbody tr th:only-of-type {\n        vertical-align: middle;\n    }\n\n    .dataframe tbody tr th {\n        vertical-align: top;\n    }\n\n    .dataframe thead th {\n        text-align: right;\n    }\n</style>\n<table border=\"1\" class=\"dataframe\">\n  <thead>\n    <tr style=\"text-align: right;\">\n      <th></th>\n      <th>year</th>\n      <th>month</th>\n      <th>day</th>\n      <th>max_wind_gust</th>\n      <th>avg_wind_speed</th>\n      <th>avg_wind_dir</th>\n      <th>sol_rad</th>\n      <th>max_air_temp</th>\n      <th>min_air_temp</th>\n      <th>avg_air_temp</th>\n      <th>...</th>\n      <th>avg_rel_hum</th>\n      <th>avg_dewpt_temp</th>\n      <th>precip</th>\n      <th>pot_evapot</th>\n      <th>max_soiltemp_4in_sod</th>\n      <th>min_soiltemp_4in_sod</th>\n      <th>avg_soiltemp_4in_sod</th>\n      <th>max_soiltemp_8in_sod</th>\n      <th>min_soiltemp_8in_sod</th>\n      <th>avg_soiltemp_8in_sod</th>\n    </tr>\n  </thead>\n  <tbody>\n    <tr>\n      <th>0</th>\n      <td>1990</td>\n      <td>4.0</td>\n      <td>18.0</td>\n      <td>24.2</td>\n      <td>7.9</td>\n      <td>73.3</td>\n      <td>27.77</td>\n      <td>57.5</td>\n      <td>35.7</td>\n      <td>47.1</td>\n      <td>...</td>\n      <td>52.4</td>\n      <td>29.1</td>\n      <td>0</td>\n      <td>0.19</td>\n      <td>56.3</td>\n      <td>45.6</td>\n      <td>50.7</td>\n      <td>53.7</td>\n      <td>48.2</td>\n      <td>51.1</td>\n    </tr>\n    <tr>\n      <th>1</th>\n      <td>1990</td>\n      <td>4.0</td>\n      <td>19.0</td>\n      <td>15.2</td>\n      <td>4.4</td>\n      <td>122.2</td>\n      <td>6.87</td>\n      <td>62.4</td>\n      <td>43.6</td>\n      <td>54.1</td>\n      <td>...</td>\n      <td>79.9</td>\n      <td>48</td>\n      <td>0</td>\n      <td>0.05</td>\n      <td>54.1</td>\n      <td>48</td>\n      <td>51.1</td>\n      <td>53.2</td>\n      <td>49.4</td>\n      <td>51.3</td>\n    </tr>\n    <tr>\n      <th>2</th>\n      <td>1990</td>\n      <td>4.0</td>\n      <td>20.0</td>\n      <td>24.7</td>\n      <td>7.1</td>\n      <td>193.6</td>\n      <td>4.56</td>\n      <td>67.4</td>\n      <td>60.7</td>\n      <td>63.9</td>\n      <td>...</td>\n      <td>94.1</td>\n      <td>62.1</td>\n      <td>0.01</td>\n      <td>0.04</td>\n      <td>57.7</td>\n      <td>52</td>\n      <td>54.9</td>\n      <td>55.9</td>\n      <td>51.5</td>\n      <td>53.4</td>\n    </tr>\n    <tr>\n      <th>3</th>\n      <td>1990</td>\n      <td>4.0</td>\n      <td>21.0</td>\n      <td>14.4</td>\n      <td>3.9</td>\n      <td>350.8</td>\n      <td>18.29</td>\n      <td>70.5</td>\n      <td>54.8</td>\n      <td>63.5</td>\n      <td>...</td>\n      <td>94.1</td>\n      <td>61.7</td>\n      <td>0</td>\n      <td>0.15</td>\n      <td>65.5</td>\n      <td>55.4</td>\n      <td>59.9</td>\n      <td>60.7</td>\n      <td>54.2</td>\n      <td>57</td>\n    </tr>\n    <tr>\n      <th>4</th>\n      <td>1990</td>\n      <td>4.0</td>\n      <td>22.0</td>\n      <td>10</td>\n      <td>2.7</td>\n      <td>99</td>\n      <td>24.87</td>\n      <td>76.2</td>\n      <td>48.2</td>\n      <td>63.7</td>\n      <td>...</td>\n      <td>82</td>\n      <td>57.6</td>\n      <td>0</td>\n      <td>0.21</td>\n      <td>68.3</td>\n      <td>55.1</td>\n      <td>61.3</td>\n      <td>62.9</td>\n      <td>55.6</td>\n      <td>59</td>\n    </tr>\n  </tbody>\n</table>\n<p>5 rows × 22 columns</p>\n</div>"
     },
     "execution_count": 7,
     "metadata": {},
     "output_type": "execute_result"
    }
   ],
   "source": [
    "rendlake.head(5)\n"
   ],
   "metadata": {
    "collapsed": false,
    "pycharm": {
     "name": "#%%\n"
    }
   }
  },
  {
   "cell_type": "code",
   "execution_count": 8,
   "outputs": [],
   "source": [
    "noncrop=[1,2,3,11,12]"
   ],
   "metadata": {
    "collapsed": false,
    "pycharm": {
     "name": "#%%\n"
    }
   }
  },
  {
   "cell_type": "code",
   "execution_count": 9,
   "outputs": [],
   "source": [
    "rendlake = rendlake.dropna()\n",
    "dekalb = dekalb.dropna()\n",
    "bondville = bondville.dropna()"
   ],
   "metadata": {
    "collapsed": false,
    "pycharm": {
     "name": "#%%\n"
    }
   }
  },
  {
   "cell_type": "code",
   "execution_count": 10,
   "outputs": [],
   "source": [
    "def delete_noncrop_months(df, noncrop):\n",
    "    \"\"\"\n",
    "    @param df: dataframe that we will be deleting the months from.\n",
    "    @type df: dataframe\n",
    "    @param noncrop: months to delete.\n",
    "    @type noncrop: list\n",
    "    @return: dataframe with months when crops grow\n",
    "    @rtype: dataframe\n",
    "    \"\"\"\n",
    "    df['month']=df['month'].astype(int)\n",
    "    df = df[~df['month'].isin(noncrop)]\n",
    "    return df"
   ],
   "metadata": {
    "collapsed": false,
    "pycharm": {
     "name": "#%%\n"
    }
   }
  },
  {
   "cell_type": "code",
   "execution_count": 11,
   "outputs": [],
   "source": [
    "def replace_weird(df):\n",
    "    \"\"\"\n",
    "    @param df:\n",
    "    @type df:\n",
    "    @return:\n",
    "    @rtype:\n",
    "    \"\"\"\n",
    "    df = df.replace('-----', np.nan)\n",
    "    df = df.replace('----', np.nan)\n",
    "    df = df.replace('---', np.nan)\n",
    "    return df"
   ],
   "metadata": {
    "collapsed": false,
    "pycharm": {
     "name": "#%%\n"
    }
   }
  },
  {
   "cell_type": "code",
   "execution_count": 12,
   "outputs": [],
   "source": [
    "rendlake=replace_weird(rendlake)\n",
    "dekalb=replace_weird(dekalb)\n",
    "bondville=replace_weird(bondville)"
   ],
   "metadata": {
    "collapsed": false,
    "pycharm": {
     "name": "#%%\n"
    }
   }
  },
  {
   "cell_type": "code",
   "execution_count": 13,
   "outputs": [],
   "source": [
    "rendlake = rendlake.dropna()\n",
    "dekalb = dekalb.dropna()\n",
    "bondville = bondville.dropna()"
   ],
   "metadata": {
    "collapsed": false,
    "pycharm": {
     "name": "#%%\n"
    }
   }
  },
  {
   "cell_type": "code",
   "execution_count": 14,
   "outputs": [],
   "source": [
    "def delete_years(df):\n",
    "    \"\"\"\n",
    "    @param df:\n",
    "    @type df:\n",
    "    @return:\n",
    "    @rtype:\n",
    "    \"\"\"\n",
    "    df['year']=df['year'].astype(int)\n",
    "    df = df[df['year'] >= 2001]\n",
    "    return df"
   ],
   "metadata": {
    "collapsed": false,
    "pycharm": {
     "name": "#%%\n"
    }
   }
  },
  {
   "cell_type": "code",
   "execution_count": 15,
   "outputs": [],
   "source": [
    "def clean_dfs(df, noncrop):\n",
    "    \"\"\"\n",
    "    @param df:dataframe to clean\n",
    "    @type df: dataframe\n",
    "    @param noncrop: months to be deleted\n",
    "    @type noncrop: list\n",
    "    @return: dataframe that will not contain noncrop months and no invalid\n",
    "    years\n",
    "    @rtype: deataframe\n",
    "    \"\"\"\n",
    "    for column in df.columns:\n",
    "        df[column] = df[column].astype(float)\n",
    "    temp_df = delete_noncrop_months(df, noncrop)\n",
    "    new_df = delete_years(temp_df)\n",
    "    return new_df"
   ],
   "metadata": {
    "collapsed": false,
    "pycharm": {
     "name": "#%%\n"
    }
   }
  },
  {
   "cell_type": "code",
   "execution_count": 16,
   "outputs": [
    {
     "name": "stdout",
     "output_type": "stream",
     "text": [
      "<class 'pandas.core.frame.DataFrame'>\n",
      "Int64Index: 4273 entries, 4001 to 11154\n",
      "Data columns (total 22 columns):\n",
      " #   Column                Non-Null Count  Dtype  \n",
      "---  ------                --------------  -----  \n",
      " 0   year                  4273 non-null   int32  \n",
      " 1   month                 4273 non-null   int32  \n",
      " 2   day                   4273 non-null   float64\n",
      " 3   max_wind_gust         4273 non-null   float64\n",
      " 4   avg_wind_speed        4273 non-null   float64\n",
      " 5   avg_wind_dir          4273 non-null   float64\n",
      " 6   sol_rad               4273 non-null   float64\n",
      " 7   max_air_temp          4273 non-null   float64\n",
      " 8   min_air_temp          4273 non-null   float64\n",
      " 9   avg_air_temp          4273 non-null   float64\n",
      " 10  max_rel_hum           4273 non-null   float64\n",
      " 11  min_rel_hum           4273 non-null   float64\n",
      " 12  avg_rel_hum           4273 non-null   float64\n",
      " 13  avg_dewpt_temp        4273 non-null   float64\n",
      " 14  precip                4273 non-null   float64\n",
      " 15  pot_evapot            4273 non-null   float64\n",
      " 16  max_soiltemp_4in_sod  4273 non-null   float64\n",
      " 17  min_soiltemp_4in_sod  4273 non-null   float64\n",
      " 18  avg_soiltemp_4in_sod  4273 non-null   float64\n",
      " 19  max_soiltemp_8in_sod  4273 non-null   float64\n",
      " 20  min_soiltemp_8in_sod  4273 non-null   float64\n",
      " 21  avg_soiltemp_8in_sod  4273 non-null   float64\n",
      "dtypes: float64(20), int32(2)\n",
      "memory usage: 734.4 KB\n"
     ]
    },
    {
     "name": "stderr",
     "output_type": "stream",
     "text": [
      "<ipython-input-14-adbc0cc777b1>:8: SettingWithCopyWarning: \n",
      "A value is trying to be set on a copy of a slice from a DataFrame.\n",
      "Try using .loc[row_indexer,col_indexer] = value instead\n",
      "\n",
      "See the caveats in the documentation: https://pandas.pydata.org/pandas-docs/stable/user_guide/indexing.html#returning-a-view-versus-a-copy\n",
      "  df['year']=df['year'].astype(int)\n"
     ]
    }
   ],
   "source": [
    "rendlake_crops = clean_dfs(rendlake, noncrop)\n",
    "rendlake_crops.info()"
   ],
   "metadata": {
    "collapsed": false,
    "pycharm": {
     "name": "#%%\n"
    }
   }
  },
  {
   "cell_type": "code",
   "execution_count": 17,
   "outputs": [
    {
     "name": "stdout",
     "output_type": "stream",
     "text": [
      "<class 'pandas.core.frame.DataFrame'>\n",
      "Int64Index: 4280 entries, 4474 to 11627\n",
      "Data columns (total 22 columns):\n",
      " #   Column                Non-Null Count  Dtype  \n",
      "---  ------                --------------  -----  \n",
      " 0   year                  4280 non-null   int32  \n",
      " 1   month                 4280 non-null   int32  \n",
      " 2   day                   4280 non-null   float64\n",
      " 3   max_wind_gust         4280 non-null   float64\n",
      " 4   avg_wind_speed        4280 non-null   float64\n",
      " 5   avg_wind_dir          4280 non-null   float64\n",
      " 6   sol_rad               4280 non-null   float64\n",
      " 7   max_air_temp          4280 non-null   float64\n",
      " 8   min_air_temp          4280 non-null   float64\n",
      " 9   avg_air_temp          4280 non-null   float64\n",
      " 10  max_rel_hum           4280 non-null   float64\n",
      " 11  min_rel_hum           4280 non-null   float64\n",
      " 12  avg_rel_hum           4280 non-null   float64\n",
      " 13  avg_dewpt_temp        4280 non-null   float64\n",
      " 14  precip                4280 non-null   float64\n",
      " 15  pot_evapot            4280 non-null   float64\n",
      " 16  max_soiltemp_4in_sod  4280 non-null   float64\n",
      " 17  min_soiltemp_4in_sod  4280 non-null   float64\n",
      " 18  avg_soiltemp_4in_sod  4280 non-null   float64\n",
      " 19  max_soiltemp_8in_sod  4280 non-null   float64\n",
      " 20  min_soiltemp_8in_sod  4280 non-null   float64\n",
      " 21  avg_soiltemp_8in_sod  4280 non-null   float64\n",
      "dtypes: float64(20), int32(2)\n",
      "memory usage: 735.6 KB\n"
     ]
    },
    {
     "name": "stderr",
     "output_type": "stream",
     "text": [
      "<ipython-input-14-adbc0cc777b1>:8: SettingWithCopyWarning: \n",
      "A value is trying to be set on a copy of a slice from a DataFrame.\n",
      "Try using .loc[row_indexer,col_indexer] = value instead\n",
      "\n",
      "See the caveats in the documentation: https://pandas.pydata.org/pandas-docs/stable/user_guide/indexing.html#returning-a-view-versus-a-copy\n",
      "  df['year']=df['year'].astype(int)\n"
     ]
    }
   ],
   "source": [
    "dekalb_crops = clean_dfs(dekalb, noncrop)\n",
    "dekalb_crops.info()\n"
   ],
   "metadata": {
    "collapsed": false,
    "pycharm": {
     "name": "#%%\n"
    }
   }
  },
  {
   "cell_type": "code",
   "execution_count": 18,
   "outputs": [
    {
     "name": "stdout",
     "output_type": "stream",
     "text": [
      "<class 'pandas.core.frame.DataFrame'>\n",
      "Int64Index: 4267 entries, 3877 to 11030\n",
      "Data columns (total 22 columns):\n",
      " #   Column                Non-Null Count  Dtype  \n",
      "---  ------                --------------  -----  \n",
      " 0   year                  4267 non-null   int32  \n",
      " 1   month                 4267 non-null   int32  \n",
      " 2   day                   4267 non-null   float64\n",
      " 3   max_wind_gust         4267 non-null   float64\n",
      " 4   avg_wind_speed        4267 non-null   float64\n",
      " 5   avg_wind_dir          4267 non-null   float64\n",
      " 6   sol_rad               4267 non-null   float64\n",
      " 7   max_air_temp          4267 non-null   float64\n",
      " 8   min_air_temp          4267 non-null   float64\n",
      " 9   avg_air_temp          4267 non-null   float64\n",
      " 10  max_rel_hum           4267 non-null   float64\n",
      " 11  min_rel_hum           4267 non-null   float64\n",
      " 12  avg_rel_hum           4267 non-null   float64\n",
      " 13  avg_dewpt_temp        4267 non-null   float64\n",
      " 14  precip                4267 non-null   float64\n",
      " 15  pot_evapot            4267 non-null   float64\n",
      " 16  max_soiltemp_4in_sod  4267 non-null   float64\n",
      " 17  min_soiltemp_4in_sod  4267 non-null   float64\n",
      " 18  avg_soiltemp_4in_sod  4267 non-null   float64\n",
      " 19  max_soiltemp_8in_sod  4267 non-null   float64\n",
      " 20  min_soiltemp_8in_sod  4267 non-null   float64\n",
      " 21  avg_soiltemp_8in_sod  4267 non-null   float64\n",
      "dtypes: float64(20), int32(2)\n",
      "memory usage: 733.4 KB\n"
     ]
    },
    {
     "name": "stderr",
     "output_type": "stream",
     "text": [
      "<ipython-input-14-adbc0cc777b1>:8: SettingWithCopyWarning: \n",
      "A value is trying to be set on a copy of a slice from a DataFrame.\n",
      "Try using .loc[row_indexer,col_indexer] = value instead\n",
      "\n",
      "See the caveats in the documentation: https://pandas.pydata.org/pandas-docs/stable/user_guide/indexing.html#returning-a-view-versus-a-copy\n",
      "  df['year']=df['year'].astype(int)\n"
     ]
    }
   ],
   "source": [
    "bondville_crops = clean_dfs(bondville, noncrop)\n",
    "bondville_crops.info()"
   ],
   "metadata": {
    "collapsed": false,
    "pycharm": {
     "name": "#%%\n"
    }
   }
  },
  {
   "cell_type": "code",
   "execution_count": 19,
   "outputs": [],
   "source": [],
   "metadata": {
    "collapsed": false,
    "pycharm": {
     "name": "#%%\n"
    }
   }
  }
 ],
 "metadata": {
  "kernelspec": {
   "display_name": "Python 3",
   "language": "python",
   "name": "python3"
  },
  "language_info": {
   "codemirror_mode": {
    "name": "ipython",
    "version": 2
   },
   "file_extension": ".py",
   "mimetype": "text/x-python",
   "name": "python",
   "nbconvert_exporter": "python",
   "pygments_lexer": "ipython2",
   "version": "2.7.6"
  }
 },
 "nbformat": 4,
 "nbformat_minor": 0
}