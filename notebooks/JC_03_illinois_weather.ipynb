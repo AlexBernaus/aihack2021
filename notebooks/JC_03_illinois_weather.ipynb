{
 "cells": [
  {
   "cell_type": "markdown",
   "metadata": {
    "collapsed": true,
    "pycharm": {
     "name": "#%% md\n"
    }
   },
   "source": [
    "# Illinois Weather\n"
   ]
  },
  {
   "cell_type": "code",
   "execution_count": 13,
   "outputs": [
    {
     "data": {
      "text/plain": "       year  month  day max_wind_gust avg_wind_speed avg_wind_dir sol_rad  \\\n0      1990      4   18          24.2            7.9         73.3   27.77   \n1      1990      4   19          15.2            4.4        122.2    6.87   \n2      1990      4   20          24.7            7.1        193.6    4.56   \n3      1990      4   21          14.4            3.9        350.8   18.29   \n4      1990      4   22            10            2.7           99   24.87   \n...     ...    ...  ...           ...            ...          ...     ...   \n11211  2020     12   27          27.4            8.8        208.8     8.7   \n11212  2020     12   28          14.8            4.9        254.6     6.2   \n11213  2020     12   29            21            9.2        100.2     3.9   \n11214  2020     12   30          23.6            6.1        260.1     1.2   \n11215  2020     12   31          17.8            6.2         84.2       4   \n\n      max_air_temp min_air_temp avg_air_temp  ... avg_rel_hum avg_dewpt_temp  \\\n0             57.5         35.7         47.1  ...        52.4           29.1   \n1             62.4         43.6         54.1  ...        79.9             48   \n2             67.4         60.7         63.9  ...        94.1           62.1   \n3             70.5         54.8         63.5  ...        94.1           61.7   \n4             76.2         48.2         63.7  ...          82           57.6   \n...            ...          ...          ...  ...         ...            ...   \n11211         57.9         36.9         47.7  ...        68.7           37.7   \n11212         41.8           26         33.2  ...        73.6           25.6   \n11213         41.7         25.4         32.8  ...        74.3           25.4   \n11214           50           32         41.5  ...        88.4           38.1   \n11215         32.3         26.7         29.2  ...          82           24.4   \n\n      precip pot_evapot max_soiltemp_4in_sod min_soiltemp_4in_sod  \\\n0          0       0.19                 56.3                 45.6   \n1          0       0.05                 54.1                   48   \n2       0.01       0.04                 57.7                   52   \n3          0       0.15                 65.5                 55.4   \n4          0       0.21                 68.3                 55.1   \n...      ...        ...                  ...                  ...   \n11211      0       0.07                 39.9                 34.2   \n11212      0       0.03                 39.5                 36.7   \n11213      0       0.03                 37.9                 35.7   \n11214   1.08       0.01                 42.1                 37.9   \n11215      0       0.02                 38.9                 36.8   \n\n      avg_soiltemp_4in_sod max_soiltemp_8in_sod min_soiltemp_8in_sod  \\\n0                     50.7                 53.7                 48.2   \n1                     51.1                 53.2                 49.4   \n2                     54.9                 55.9                 51.5   \n3                     59.9                 60.7                 54.2   \n4                     61.3                 62.9                 55.6   \n...                    ...                  ...                  ...   \n11211                 36.9                 39.4                 36.4   \n11212                 38.1                 39.6                 38.7   \n11213                 36.8                 39.1                 37.9   \n11214                 40.1                 41.5                 38.8   \n11215                 37.8                 40.6                 38.8   \n\n      avg_soiltemp_8in_sod  \n0                     51.1  \n1                     51.3  \n2                     53.4  \n3                       57  \n4                       59  \n...                    ...  \n11211                 37.3  \n11212                 39.2  \n11213                 38.4  \n11214                 40.2  \n11215                 39.5  \n\n[11216 rows x 22 columns]",
      "text/html": "<div>\n<style scoped>\n    .dataframe tbody tr th:only-of-type {\n        vertical-align: middle;\n    }\n\n    .dataframe tbody tr th {\n        vertical-align: top;\n    }\n\n    .dataframe thead th {\n        text-align: right;\n    }\n</style>\n<table border=\"1\" class=\"dataframe\">\n  <thead>\n    <tr style=\"text-align: right;\">\n      <th></th>\n      <th>year</th>\n      <th>month</th>\n      <th>day</th>\n      <th>max_wind_gust</th>\n      <th>avg_wind_speed</th>\n      <th>avg_wind_dir</th>\n      <th>sol_rad</th>\n      <th>max_air_temp</th>\n      <th>min_air_temp</th>\n      <th>avg_air_temp</th>\n      <th>...</th>\n      <th>avg_rel_hum</th>\n      <th>avg_dewpt_temp</th>\n      <th>precip</th>\n      <th>pot_evapot</th>\n      <th>max_soiltemp_4in_sod</th>\n      <th>min_soiltemp_4in_sod</th>\n      <th>avg_soiltemp_4in_sod</th>\n      <th>max_soiltemp_8in_sod</th>\n      <th>min_soiltemp_8in_sod</th>\n      <th>avg_soiltemp_8in_sod</th>\n    </tr>\n  </thead>\n  <tbody>\n    <tr>\n      <th>0</th>\n      <td>1990</td>\n      <td>4</td>\n      <td>18</td>\n      <td>24.2</td>\n      <td>7.9</td>\n      <td>73.3</td>\n      <td>27.77</td>\n      <td>57.5</td>\n      <td>35.7</td>\n      <td>47.1</td>\n      <td>...</td>\n      <td>52.4</td>\n      <td>29.1</td>\n      <td>0</td>\n      <td>0.19</td>\n      <td>56.3</td>\n      <td>45.6</td>\n      <td>50.7</td>\n      <td>53.7</td>\n      <td>48.2</td>\n      <td>51.1</td>\n    </tr>\n    <tr>\n      <th>1</th>\n      <td>1990</td>\n      <td>4</td>\n      <td>19</td>\n      <td>15.2</td>\n      <td>4.4</td>\n      <td>122.2</td>\n      <td>6.87</td>\n      <td>62.4</td>\n      <td>43.6</td>\n      <td>54.1</td>\n      <td>...</td>\n      <td>79.9</td>\n      <td>48</td>\n      <td>0</td>\n      <td>0.05</td>\n      <td>54.1</td>\n      <td>48</td>\n      <td>51.1</td>\n      <td>53.2</td>\n      <td>49.4</td>\n      <td>51.3</td>\n    </tr>\n    <tr>\n      <th>2</th>\n      <td>1990</td>\n      <td>4</td>\n      <td>20</td>\n      <td>24.7</td>\n      <td>7.1</td>\n      <td>193.6</td>\n      <td>4.56</td>\n      <td>67.4</td>\n      <td>60.7</td>\n      <td>63.9</td>\n      <td>...</td>\n      <td>94.1</td>\n      <td>62.1</td>\n      <td>0.01</td>\n      <td>0.04</td>\n      <td>57.7</td>\n      <td>52</td>\n      <td>54.9</td>\n      <td>55.9</td>\n      <td>51.5</td>\n      <td>53.4</td>\n    </tr>\n    <tr>\n      <th>3</th>\n      <td>1990</td>\n      <td>4</td>\n      <td>21</td>\n      <td>14.4</td>\n      <td>3.9</td>\n      <td>350.8</td>\n      <td>18.29</td>\n      <td>70.5</td>\n      <td>54.8</td>\n      <td>63.5</td>\n      <td>...</td>\n      <td>94.1</td>\n      <td>61.7</td>\n      <td>0</td>\n      <td>0.15</td>\n      <td>65.5</td>\n      <td>55.4</td>\n      <td>59.9</td>\n      <td>60.7</td>\n      <td>54.2</td>\n      <td>57</td>\n    </tr>\n    <tr>\n      <th>4</th>\n      <td>1990</td>\n      <td>4</td>\n      <td>22</td>\n      <td>10</td>\n      <td>2.7</td>\n      <td>99</td>\n      <td>24.87</td>\n      <td>76.2</td>\n      <td>48.2</td>\n      <td>63.7</td>\n      <td>...</td>\n      <td>82</td>\n      <td>57.6</td>\n      <td>0</td>\n      <td>0.21</td>\n      <td>68.3</td>\n      <td>55.1</td>\n      <td>61.3</td>\n      <td>62.9</td>\n      <td>55.6</td>\n      <td>59</td>\n    </tr>\n    <tr>\n      <th>...</th>\n      <td>...</td>\n      <td>...</td>\n      <td>...</td>\n      <td>...</td>\n      <td>...</td>\n      <td>...</td>\n      <td>...</td>\n      <td>...</td>\n      <td>...</td>\n      <td>...</td>\n      <td>...</td>\n      <td>...</td>\n      <td>...</td>\n      <td>...</td>\n      <td>...</td>\n      <td>...</td>\n      <td>...</td>\n      <td>...</td>\n      <td>...</td>\n      <td>...</td>\n      <td>...</td>\n    </tr>\n    <tr>\n      <th>11211</th>\n      <td>2020</td>\n      <td>12</td>\n      <td>27</td>\n      <td>27.4</td>\n      <td>8.8</td>\n      <td>208.8</td>\n      <td>8.7</td>\n      <td>57.9</td>\n      <td>36.9</td>\n      <td>47.7</td>\n      <td>...</td>\n      <td>68.7</td>\n      <td>37.7</td>\n      <td>0</td>\n      <td>0.07</td>\n      <td>39.9</td>\n      <td>34.2</td>\n      <td>36.9</td>\n      <td>39.4</td>\n      <td>36.4</td>\n      <td>37.3</td>\n    </tr>\n    <tr>\n      <th>11212</th>\n      <td>2020</td>\n      <td>12</td>\n      <td>28</td>\n      <td>14.8</td>\n      <td>4.9</td>\n      <td>254.6</td>\n      <td>6.2</td>\n      <td>41.8</td>\n      <td>26</td>\n      <td>33.2</td>\n      <td>...</td>\n      <td>73.6</td>\n      <td>25.6</td>\n      <td>0</td>\n      <td>0.03</td>\n      <td>39.5</td>\n      <td>36.7</td>\n      <td>38.1</td>\n      <td>39.6</td>\n      <td>38.7</td>\n      <td>39.2</td>\n    </tr>\n    <tr>\n      <th>11213</th>\n      <td>2020</td>\n      <td>12</td>\n      <td>29</td>\n      <td>21</td>\n      <td>9.2</td>\n      <td>100.2</td>\n      <td>3.9</td>\n      <td>41.7</td>\n      <td>25.4</td>\n      <td>32.8</td>\n      <td>...</td>\n      <td>74.3</td>\n      <td>25.4</td>\n      <td>0</td>\n      <td>0.03</td>\n      <td>37.9</td>\n      <td>35.7</td>\n      <td>36.8</td>\n      <td>39.1</td>\n      <td>37.9</td>\n      <td>38.4</td>\n    </tr>\n    <tr>\n      <th>11214</th>\n      <td>2020</td>\n      <td>12</td>\n      <td>30</td>\n      <td>23.6</td>\n      <td>6.1</td>\n      <td>260.1</td>\n      <td>1.2</td>\n      <td>50</td>\n      <td>32</td>\n      <td>41.5</td>\n      <td>...</td>\n      <td>88.4</td>\n      <td>38.1</td>\n      <td>1.08</td>\n      <td>0.01</td>\n      <td>42.1</td>\n      <td>37.9</td>\n      <td>40.1</td>\n      <td>41.5</td>\n      <td>38.8</td>\n      <td>40.2</td>\n    </tr>\n    <tr>\n      <th>11215</th>\n      <td>2020</td>\n      <td>12</td>\n      <td>31</td>\n      <td>17.8</td>\n      <td>6.2</td>\n      <td>84.2</td>\n      <td>4</td>\n      <td>32.3</td>\n      <td>26.7</td>\n      <td>29.2</td>\n      <td>...</td>\n      <td>82</td>\n      <td>24.4</td>\n      <td>0</td>\n      <td>0.02</td>\n      <td>38.9</td>\n      <td>36.8</td>\n      <td>37.8</td>\n      <td>40.6</td>\n      <td>38.8</td>\n      <td>39.5</td>\n    </tr>\n  </tbody>\n</table>\n<p>11216 rows × 22 columns</p>\n</div>"
     },
     "execution_count": 13,
     "metadata": {},
     "output_type": "execute_result"
    }
   ],
   "source": [
    "import pandas as pd\n",
    "import geopandas as gpd\n",
    "pd.read_csv(\"../data/processed/processed_rend_lake_data.csv\")"
   ],
   "metadata": {
    "collapsed": false,
    "pycharm": {
     "name": "#%%\n"
    }
   }
  },
  {
   "cell_type": "code",
   "execution_count": 12,
   "outputs": [],
   "source": [
    "# Illinois county\n",
    "evi_stacked = pd.read_csv(\"../data/raw/EVI_stacked.csv\")\n"
   ],
   "metadata": {
    "collapsed": false,
    "pycharm": {
     "name": "#%%\n"
    }
   }
  },
  {
   "cell_type": "code",
   "execution_count": 32,
   "outputs": [
    {
     "data": {
      "text/plain": "39.35625290809104"
     },
     "execution_count": 32,
     "metadata": {},
     "output_type": "execute_result"
    }
   ],
   "source": [
    "geo_dataframe = gpd.read_file(\"../data/raw/illinois-counties.geojson\")\n",
    "geo_dataframe[\"geometry\"].iloc[0].centroid.y"
   ],
   "metadata": {
    "collapsed": false,
    "pycharm": {
     "name": "#%%\n"
    }
   }
  },
  {
   "cell_type": "code",
   "execution_count": 31,
   "outputs": [
    {
     "data": {
      "text/plain": "geopandas.geoseries.GeoSeries"
     },
     "execution_count": 31,
     "metadata": {},
     "output_type": "execute_result"
    }
   ],
   "source": [
    "type(geo_dataframe[\"geometry\"])"
   ],
   "metadata": {
    "collapsed": false,
    "pycharm": {
     "name": "#%%\n"
    }
   }
  },
  {
   "cell_type": "code",
   "execution_count": 37,
   "outputs": [
    {
     "name": "stderr",
     "output_type": "stream",
     "text": [
      "<ipython-input-37-548f943b1e4f>:3: UserWarning: Geometry is in a geographic CRS. Results from 'centroid' are likely incorrect. Use 'GeoSeries.to_crs()' to re-project geometries to a projected CRS before this operation.\n",
      "\n",
      "  centroidseries = geo_dataframe['geometry'].centroid\n"
     ]
    }
   ],
   "source": [
    "# Get centroid\n",
    "def getXY(pt):\n",
    "    \"\"\"\n",
    "    Function returns x and y coordinates of geo pandas centroid\n",
    "    @param pt:\n",
    "    @return:\n",
    "    \"\"\"\n",
    "    return pt.x, pt.y\n",
    "centroidseries = geo_dataframe['geometry'].centroid\n",
    "x,y = [list(t) for t in zip(*map(getXY, centroidseries))]"
   ],
   "metadata": {
    "collapsed": false,
    "pycharm": {
     "name": "#%%\n"
    }
   }
  },
  {
   "cell_type": "code",
   "execution_count": 44,
   "outputs": [],
   "source": [
    "names = list(geo_dataframe[\"name\"])"
   ],
   "metadata": {
    "collapsed": false,
    "pycharm": {
     "name": "#%%\n"
    }
   }
  },
  {
   "cell_type": "code",
   "execution_count": 51,
   "outputs": [
    {
     "data": {
      "text/plain": "         county       long        lat\n0        Greene -90.390366  39.356253\n1       Clinton -89.422525  38.606437\n2      Tazewell -89.513398  40.507512\n3        Fulton -90.207442  40.472766\n4         Adams -91.188430  39.987842\n..          ...        ...        ...\n97   Williamson -88.929957  37.730180\n98     Hamilton -88.539164  38.081574\n99    Mcdonough -90.677893  40.456247\n100   Jefferson -88.924003  38.300533\n101      Marion -88.918930  38.649555\n\n[102 rows x 3 columns]",
      "text/html": "<div>\n<style scoped>\n    .dataframe tbody tr th:only-of-type {\n        vertical-align: middle;\n    }\n\n    .dataframe tbody tr th {\n        vertical-align: top;\n    }\n\n    .dataframe thead th {\n        text-align: right;\n    }\n</style>\n<table border=\"1\" class=\"dataframe\">\n  <thead>\n    <tr style=\"text-align: right;\">\n      <th></th>\n      <th>county</th>\n      <th>long</th>\n      <th>lat</th>\n    </tr>\n  </thead>\n  <tbody>\n    <tr>\n      <th>0</th>\n      <td>Greene</td>\n      <td>-90.390366</td>\n      <td>39.356253</td>\n    </tr>\n    <tr>\n      <th>1</th>\n      <td>Clinton</td>\n      <td>-89.422525</td>\n      <td>38.606437</td>\n    </tr>\n    <tr>\n      <th>2</th>\n      <td>Tazewell</td>\n      <td>-89.513398</td>\n      <td>40.507512</td>\n    </tr>\n    <tr>\n      <th>3</th>\n      <td>Fulton</td>\n      <td>-90.207442</td>\n      <td>40.472766</td>\n    </tr>\n    <tr>\n      <th>4</th>\n      <td>Adams</td>\n      <td>-91.188430</td>\n      <td>39.987842</td>\n    </tr>\n    <tr>\n      <th>...</th>\n      <td>...</td>\n      <td>...</td>\n      <td>...</td>\n    </tr>\n    <tr>\n      <th>97</th>\n      <td>Williamson</td>\n      <td>-88.929957</td>\n      <td>37.730180</td>\n    </tr>\n    <tr>\n      <th>98</th>\n      <td>Hamilton</td>\n      <td>-88.539164</td>\n      <td>38.081574</td>\n    </tr>\n    <tr>\n      <th>99</th>\n      <td>Mcdonough</td>\n      <td>-90.677893</td>\n      <td>40.456247</td>\n    </tr>\n    <tr>\n      <th>100</th>\n      <td>Jefferson</td>\n      <td>-88.924003</td>\n      <td>38.300533</td>\n    </tr>\n    <tr>\n      <th>101</th>\n      <td>Marion</td>\n      <td>-88.918930</td>\n      <td>38.649555</td>\n    </tr>\n  </tbody>\n</table>\n<p>102 rows × 3 columns</p>\n</div>"
     },
     "execution_count": 51,
     "metadata": {},
     "output_type": "execute_result"
    }
   ],
   "source": [
    "# County centroid dataframe\n",
    "county_centroid_dataframe = pd.DataFrame()\n",
    "county_centroid_dataframe[\"county\"] = names\n",
    "county_centroid_dataframe[\"long\"] = x\n",
    "county_centroid_dataframe[\"lat\"] = y\n",
    "county_centroid_dataframe"
   ],
   "metadata": {
    "collapsed": false,
    "pycharm": {
     "name": "#%%\n"
    }
   }
  },
  {
   "cell_type": "code",
   "execution_count": 59,
   "outputs": [
    {
     "data": {
      "text/plain": "39.175"
     },
     "execution_count": 59,
     "metadata": {},
     "output_type": "execute_result"
    }
   ],
   "source": [
    "# Zones\n",
    "zone1_min_lat = evi_stacked[evi_stacked[\"county\"] == \"LIVINGSTON\"][\"lat\"].max()\n",
    "zone3_max_lat = evi_stacked[evi_stacked[\"county\"] == \"CRAWFORD\"][\"lat\"].max()\n",
    "zone3_max_lat"
   ],
   "metadata": {
    "collapsed": false,
    "pycharm": {
     "name": "#%%\n"
    }
   }
  },
  {
   "cell_type": "code",
   "execution_count": 70,
   "outputs": [],
   "source": [
    "zone_1_counties = list(county_centroid_dataframe[county_centroid_dataframe[\"lat\"] >\n",
    "                                         zone1_min_lat][\"county\"])\n",
    "zone_3_counties = list(county_centroid_dataframe[county_centroid_dataframe[\"lat\"] <\n",
    "                                         zone3_max_lat][\"county\"])\n",
    "current_county_zone = zone_1_counties + zone_3_counties\n",
    "\n",
    "zone_2_counties = list(county_centroid_dataframe[~county_centroid_dataframe[\"county\"].isin\n",
    "(current_county_zone)\n",
    "][\"county\"])"
   ],
   "metadata": {
    "collapsed": false,
    "pycharm": {
     "name": "#%%\n"
    }
   }
  },
  {
   "cell_type": "code",
   "execution_count": 77,
   "outputs": [],
   "source": [
    "if len(x) > len(set(x)):\n",
    "   pass #"
   ],
   "metadata": {
    "collapsed": false,
    "pycharm": {
     "name": "#%%\n"
    }
   }
  },
  {
   "cell_type": "code",
   "execution_count": 75,
   "outputs": [],
   "source": [
    "x = current_county_zone + zone_3_counties + zone_1_counties"
   ],
   "metadata": {
    "collapsed": false,
    "pycharm": {
     "name": "#%%\n"
    }
   }
  },
  {
   "cell_type": "code",
   "execution_count": 76,
   "outputs": [
    {
     "data": {
      "text/plain": "['Bureau',\n 'Henry',\n 'Mercer',\n 'Lake',\n 'Cook',\n 'Rock Island',\n 'Carroll',\n 'Whiteside',\n 'Jo Daviess',\n 'Ogle',\n 'Will',\n 'Mchenry',\n 'Lasalle',\n 'Putnam',\n 'Kankakee',\n 'Dekalb',\n 'Grundy',\n 'Boone',\n 'Dupage',\n 'Kane',\n 'Kendall',\n 'Stephenson',\n 'Lee',\n 'Winnebago',\n 'Clinton',\n 'Gallatin',\n 'Johnson',\n 'Union',\n 'Randolph',\n 'Perry',\n 'Franklin',\n 'Calhoun',\n 'Clay',\n 'Jersey',\n 'Hardin',\n 'Jackson',\n 'Pope',\n 'Madison',\n 'St. Clair',\n 'Monroe',\n 'Crawford',\n 'Wabash',\n 'Edwards',\n 'Washington',\n 'Richland',\n 'White',\n 'Pulaski',\n 'Alexander',\n 'Saline',\n 'Lawrence',\n 'Massac',\n 'Fayette',\n 'Wayne',\n 'Jasper',\n 'Bond',\n 'Effingham',\n 'Williamson',\n 'Hamilton',\n 'Jefferson',\n 'Marion',\n 'Clinton',\n 'Gallatin',\n 'Johnson',\n 'Union',\n 'Randolph',\n 'Perry',\n 'Franklin',\n 'Calhoun',\n 'Clay',\n 'Jersey',\n 'Hardin',\n 'Jackson',\n 'Pope',\n 'Madison',\n 'St. Clair',\n 'Monroe',\n 'Crawford',\n 'Wabash',\n 'Edwards',\n 'Washington',\n 'Richland',\n 'White',\n 'Pulaski',\n 'Alexander',\n 'Saline',\n 'Lawrence',\n 'Massac',\n 'Fayette',\n 'Wayne',\n 'Jasper',\n 'Bond',\n 'Effingham',\n 'Williamson',\n 'Hamilton',\n 'Jefferson',\n 'Marion',\n 'Bureau',\n 'Henry',\n 'Mercer',\n 'Lake',\n 'Cook',\n 'Rock Island',\n 'Carroll',\n 'Whiteside',\n 'Jo Daviess',\n 'Ogle',\n 'Will',\n 'Mchenry',\n 'Lasalle',\n 'Putnam',\n 'Kankakee',\n 'Dekalb',\n 'Grundy',\n 'Boone',\n 'Dupage',\n 'Kane',\n 'Kendall',\n 'Stephenson',\n 'Lee',\n 'Winnebago']"
     },
     "execution_count": 76,
     "metadata": {},
     "output_type": "execute_result"
    }
   ],
   "source": [
    "x"
   ],
   "metadata": {
    "collapsed": false,
    "pycharm": {
     "name": "#%%\n"
    }
   }
  },
  {
   "cell_type": "markdown",
   "source": [
    "## Grouping Data by Zone\n"
   ],
   "metadata": {
    "collapsed": false,
    "pycharm": {
     "name": "#%% md\n"
    }
   }
  },
  {
   "cell_type": "code",
   "execution_count": 248,
   "outputs": [
    {
     "data": {
      "text/plain": "          lat  long       time         t2m      county  year  month  day\n57213   42.50 -90.5 2001-04-01  275.935944  JO DAVIESS  2001      4    1\n57214   42.50 -90.5 2001-04-15  289.480621  JO DAVIESS  2001      4   15\n57215   42.50 -90.5 2001-04-28  293.452332  JO DAVIESS  2001      4   28\n57216   42.50 -90.5 2001-05-01  295.933533  JO DAVIESS  2001      5    1\n57217   42.50 -90.5 2001-05-15  298.438080  JO DAVIESS  2001      5   15\n...       ...   ...        ...         ...         ...   ...    ...  ...\n328669  37.25 -89.0 2012-09-15  294.402069     PULASKI  2012      9   15\n328670  37.25 -89.0 2012-09-28  295.466919     PULASKI  2012      9   28\n328671  37.25 -89.0 2012-10-01  293.211304     PULASKI  2012     10    1\n328672  37.25 -89.0 2012-10-15  292.251190     PULASKI  2012     10   15\n328673  37.25 -89.0 2012-10-28  282.207001     PULASKI  2012     10   28\n\n[86856 rows x 8 columns]",
      "text/html": "<div>\n<style scoped>\n    .dataframe tbody tr th:only-of-type {\n        vertical-align: middle;\n    }\n\n    .dataframe tbody tr th {\n        vertical-align: top;\n    }\n\n    .dataframe thead th {\n        text-align: right;\n    }\n</style>\n<table border=\"1\" class=\"dataframe\">\n  <thead>\n    <tr style=\"text-align: right;\">\n      <th></th>\n      <th>lat</th>\n      <th>long</th>\n      <th>time</th>\n      <th>t2m</th>\n      <th>county</th>\n      <th>year</th>\n      <th>month</th>\n      <th>day</th>\n    </tr>\n  </thead>\n  <tbody>\n    <tr>\n      <th>57213</th>\n      <td>42.50</td>\n      <td>-90.5</td>\n      <td>2001-04-01</td>\n      <td>275.935944</td>\n      <td>JO DAVIESS</td>\n      <td>2001</td>\n      <td>4</td>\n      <td>1</td>\n    </tr>\n    <tr>\n      <th>57214</th>\n      <td>42.50</td>\n      <td>-90.5</td>\n      <td>2001-04-15</td>\n      <td>289.480621</td>\n      <td>JO DAVIESS</td>\n      <td>2001</td>\n      <td>4</td>\n      <td>15</td>\n    </tr>\n    <tr>\n      <th>57215</th>\n      <td>42.50</td>\n      <td>-90.5</td>\n      <td>2001-04-28</td>\n      <td>293.452332</td>\n      <td>JO DAVIESS</td>\n      <td>2001</td>\n      <td>4</td>\n      <td>28</td>\n    </tr>\n    <tr>\n      <th>57216</th>\n      <td>42.50</td>\n      <td>-90.5</td>\n      <td>2001-05-01</td>\n      <td>295.933533</td>\n      <td>JO DAVIESS</td>\n      <td>2001</td>\n      <td>5</td>\n      <td>1</td>\n    </tr>\n    <tr>\n      <th>57217</th>\n      <td>42.50</td>\n      <td>-90.5</td>\n      <td>2001-05-15</td>\n      <td>298.438080</td>\n      <td>JO DAVIESS</td>\n      <td>2001</td>\n      <td>5</td>\n      <td>15</td>\n    </tr>\n    <tr>\n      <th>...</th>\n      <td>...</td>\n      <td>...</td>\n      <td>...</td>\n      <td>...</td>\n      <td>...</td>\n      <td>...</td>\n      <td>...</td>\n      <td>...</td>\n    </tr>\n    <tr>\n      <th>328669</th>\n      <td>37.25</td>\n      <td>-89.0</td>\n      <td>2012-09-15</td>\n      <td>294.402069</td>\n      <td>PULASKI</td>\n      <td>2012</td>\n      <td>9</td>\n      <td>15</td>\n    </tr>\n    <tr>\n      <th>328670</th>\n      <td>37.25</td>\n      <td>-89.0</td>\n      <td>2012-09-28</td>\n      <td>295.466919</td>\n      <td>PULASKI</td>\n      <td>2012</td>\n      <td>9</td>\n      <td>28</td>\n    </tr>\n    <tr>\n      <th>328671</th>\n      <td>37.25</td>\n      <td>-89.0</td>\n      <td>2012-10-01</td>\n      <td>293.211304</td>\n      <td>PULASKI</td>\n      <td>2012</td>\n      <td>10</td>\n      <td>1</td>\n    </tr>\n    <tr>\n      <th>328672</th>\n      <td>37.25</td>\n      <td>-89.0</td>\n      <td>2012-10-15</td>\n      <td>292.251190</td>\n      <td>PULASKI</td>\n      <td>2012</td>\n      <td>10</td>\n      <td>15</td>\n    </tr>\n    <tr>\n      <th>328673</th>\n      <td>37.25</td>\n      <td>-89.0</td>\n      <td>2012-10-28</td>\n      <td>282.207001</td>\n      <td>PULASKI</td>\n      <td>2012</td>\n      <td>10</td>\n      <td>28</td>\n    </tr>\n  </tbody>\n</table>\n<p>86856 rows × 8 columns</p>\n</div>"
     },
     "execution_count": 248,
     "metadata": {},
     "output_type": "execute_result"
    }
   ],
   "source": [
    "era5 = pd.read_csv(\"../data/raw/era5.csv\")\n",
    "era5[\"time\"] = pd.to_datetime(era5[\"time\"])\n",
    "era5[\"year\"] = era5[\"time\"].dt.year\n",
    "era5[\"month\"] = era5[\"time\"].dt.month\n",
    "era5[\"day\"] = era5[\"time\"].dt.day\n",
    "era5 = era5[era5[\"year\"] >= 2001]\n",
    "era5 = era5[(era5[\"month\"] >= 4) & (era5[\"month\"] <= 10)]\n",
    "era5"
   ],
   "metadata": {
    "collapsed": false,
    "pycharm": {
     "name": "#%%\n"
    }
   }
  },
  {
   "cell_type": "code",
   "execution_count": 89,
   "outputs": [
    {
     "data": {
      "text/plain": "               lat    long         t2m         year  month        day\ncounty                                                               \nADAMS       40.000 -91.125  287.551790  2010.000000    6.5  14.666667\nALEXANDER   37.250 -89.250  290.174058  2009.375000    6.5  14.666667\nBOND        38.875 -89.500  288.881794  2008.937500    6.5  14.666667\nBOONE       42.250 -88.750  284.498382  2009.888889    6.5  14.666667\nBROWN       40.000 -90.750  287.558604  2009.500000    6.5  14.666667\n...            ...     ...         ...          ...    ...        ...\nWHITESIDE   41.750 -89.875  285.678438  2010.000000    6.5  14.666667\nWILL        41.500 -88.125  285.720088  2009.117647    6.5  14.666667\nWILLIAMSON  37.750 -88.875  290.024419  2010.000000    6.5  14.666667\nWINNEBAGO   42.250 -89.125  284.806861  2010.000000    6.5  14.666667\nWOODFORD    40.750 -89.250  286.479458  2010.000000    6.5  14.666667\n\n[96 rows x 6 columns]",
      "text/html": "<div>\n<style scoped>\n    .dataframe tbody tr th:only-of-type {\n        vertical-align: middle;\n    }\n\n    .dataframe tbody tr th {\n        vertical-align: top;\n    }\n\n    .dataframe thead th {\n        text-align: right;\n    }\n</style>\n<table border=\"1\" class=\"dataframe\">\n  <thead>\n    <tr style=\"text-align: right;\">\n      <th></th>\n      <th>lat</th>\n      <th>long</th>\n      <th>t2m</th>\n      <th>year</th>\n      <th>month</th>\n      <th>day</th>\n    </tr>\n    <tr>\n      <th>county</th>\n      <th></th>\n      <th></th>\n      <th></th>\n      <th></th>\n      <th></th>\n      <th></th>\n    </tr>\n  </thead>\n  <tbody>\n    <tr>\n      <th>ADAMS</th>\n      <td>40.000</td>\n      <td>-91.125</td>\n      <td>287.551790</td>\n      <td>2010.000000</td>\n      <td>6.5</td>\n      <td>14.666667</td>\n    </tr>\n    <tr>\n      <th>ALEXANDER</th>\n      <td>37.250</td>\n      <td>-89.250</td>\n      <td>290.174058</td>\n      <td>2009.375000</td>\n      <td>6.5</td>\n      <td>14.666667</td>\n    </tr>\n    <tr>\n      <th>BOND</th>\n      <td>38.875</td>\n      <td>-89.500</td>\n      <td>288.881794</td>\n      <td>2008.937500</td>\n      <td>6.5</td>\n      <td>14.666667</td>\n    </tr>\n    <tr>\n      <th>BOONE</th>\n      <td>42.250</td>\n      <td>-88.750</td>\n      <td>284.498382</td>\n      <td>2009.888889</td>\n      <td>6.5</td>\n      <td>14.666667</td>\n    </tr>\n    <tr>\n      <th>BROWN</th>\n      <td>40.000</td>\n      <td>-90.750</td>\n      <td>287.558604</td>\n      <td>2009.500000</td>\n      <td>6.5</td>\n      <td>14.666667</td>\n    </tr>\n    <tr>\n      <th>...</th>\n      <td>...</td>\n      <td>...</td>\n      <td>...</td>\n      <td>...</td>\n      <td>...</td>\n      <td>...</td>\n    </tr>\n    <tr>\n      <th>WHITESIDE</th>\n      <td>41.750</td>\n      <td>-89.875</td>\n      <td>285.678438</td>\n      <td>2010.000000</td>\n      <td>6.5</td>\n      <td>14.666667</td>\n    </tr>\n    <tr>\n      <th>WILL</th>\n      <td>41.500</td>\n      <td>-88.125</td>\n      <td>285.720088</td>\n      <td>2009.117647</td>\n      <td>6.5</td>\n      <td>14.666667</td>\n    </tr>\n    <tr>\n      <th>WILLIAMSON</th>\n      <td>37.750</td>\n      <td>-88.875</td>\n      <td>290.024419</td>\n      <td>2010.000000</td>\n      <td>6.5</td>\n      <td>14.666667</td>\n    </tr>\n    <tr>\n      <th>WINNEBAGO</th>\n      <td>42.250</td>\n      <td>-89.125</td>\n      <td>284.806861</td>\n      <td>2010.000000</td>\n      <td>6.5</td>\n      <td>14.666667</td>\n    </tr>\n    <tr>\n      <th>WOODFORD</th>\n      <td>40.750</td>\n      <td>-89.250</td>\n      <td>286.479458</td>\n      <td>2010.000000</td>\n      <td>6.5</td>\n      <td>14.666667</td>\n    </tr>\n  </tbody>\n</table>\n<p>96 rows × 6 columns</p>\n</div>"
     },
     "execution_count": 89,
     "metadata": {},
     "output_type": "execute_result"
    }
   ],
   "source": [
    "county_name_list = list()\n",
    "min_t2m = list()\n",
    "max_t2m = list()\n",
    "mean_t2m = list()\n",
    "era5.groupby(\"county\").mean()\n"
   ],
   "metadata": {
    "collapsed": false,
    "pycharm": {
     "name": "#%%\n"
    }
   }
  },
  {
   "cell_type": "code",
   "execution_count": 216,
   "outputs": [],
   "source": [
    "a = era5[era5[\"county\"] == \"BOONE\"]\n",
    "t2m_df_year = pd.DataFrame()\n",
    "for year in sorted(list(a[\"year\"].unique())):\n",
    "    b = a[a[\"year\"] == year]\n",
    "\n",
    "    month_list = list(b[\"month\"].unique())\n",
    "    monthly_mean_t2m_list = list(b.groupby(\"month\").mean()[\"t2m\"])\n",
    "    monthly_max_t2m_list = list(b.groupby(\"month\").max()[\"t2m\"])\n",
    "    monthly_min_t2m_list = list(b.groupby(\"month\").min()[\"t2m\"])\n",
    "\n",
    "    t2m_df = pd.DataFrame()\n",
    "    t2m_df[\"month\"] = month_list\n",
    "    t2m_df[\"mean\"] = monthly_mean_t2m_list\n",
    "    t2m_df[\"max\"] = monthly_max_t2m_list\n",
    "    t2m_df[\"min\"] = monthly_min_t2m_list\n",
    "    t2m_df[\"year\"] = year\n",
    "    t2m_df_year = t2m_df_year.append(t2m_df)"
   ],
   "metadata": {
    "collapsed": false,
    "pycharm": {
     "name": "#%%\n"
    }
   }
  },
  {
   "cell_type": "code",
   "execution_count": 217,
   "outputs": [
    {
     "data": {
      "text/plain": "    month        mean         max         min  year\n0       4  284.721191  288.360535  277.901306  2001\n1       5  292.893361  297.142029  289.013763  2001\n2       6  294.788015  300.558502  283.385223  2001\n3       7  299.964467  302.304535  296.612518  2001\n4       8  300.005168  304.584869  296.614105  2001\n..    ...         ...         ...         ...   ...\n2       6  297.277395  298.842041  295.280151  2019\n3       7  299.498077  302.484070  296.979584  2019\n4       8  296.334178  296.961365  295.617126  2019\n5       9  293.951396  296.244629  292.586212  2019\n6      10  287.516439  299.930389  279.873230  2019\n\n[126 rows x 5 columns]",
      "text/html": "<div>\n<style scoped>\n    .dataframe tbody tr th:only-of-type {\n        vertical-align: middle;\n    }\n\n    .dataframe tbody tr th {\n        vertical-align: top;\n    }\n\n    .dataframe thead th {\n        text-align: right;\n    }\n</style>\n<table border=\"1\" class=\"dataframe\">\n  <thead>\n    <tr style=\"text-align: right;\">\n      <th></th>\n      <th>month</th>\n      <th>mean</th>\n      <th>max</th>\n      <th>min</th>\n      <th>year</th>\n    </tr>\n  </thead>\n  <tbody>\n    <tr>\n      <th>0</th>\n      <td>4</td>\n      <td>284.721191</td>\n      <td>288.360535</td>\n      <td>277.901306</td>\n      <td>2001</td>\n    </tr>\n    <tr>\n      <th>1</th>\n      <td>5</td>\n      <td>292.893361</td>\n      <td>297.142029</td>\n      <td>289.013763</td>\n      <td>2001</td>\n    </tr>\n    <tr>\n      <th>2</th>\n      <td>6</td>\n      <td>294.788015</td>\n      <td>300.558502</td>\n      <td>283.385223</td>\n      <td>2001</td>\n    </tr>\n    <tr>\n      <th>3</th>\n      <td>7</td>\n      <td>299.964467</td>\n      <td>302.304535</td>\n      <td>296.612518</td>\n      <td>2001</td>\n    </tr>\n    <tr>\n      <th>4</th>\n      <td>8</td>\n      <td>300.005168</td>\n      <td>304.584869</td>\n      <td>296.614105</td>\n      <td>2001</td>\n    </tr>\n    <tr>\n      <th>...</th>\n      <td>...</td>\n      <td>...</td>\n      <td>...</td>\n      <td>...</td>\n      <td>...</td>\n    </tr>\n    <tr>\n      <th>2</th>\n      <td>6</td>\n      <td>297.277395</td>\n      <td>298.842041</td>\n      <td>295.280151</td>\n      <td>2019</td>\n    </tr>\n    <tr>\n      <th>3</th>\n      <td>7</td>\n      <td>299.498077</td>\n      <td>302.484070</td>\n      <td>296.979584</td>\n      <td>2019</td>\n    </tr>\n    <tr>\n      <th>4</th>\n      <td>8</td>\n      <td>296.334178</td>\n      <td>296.961365</td>\n      <td>295.617126</td>\n      <td>2019</td>\n    </tr>\n    <tr>\n      <th>5</th>\n      <td>9</td>\n      <td>293.951396</td>\n      <td>296.244629</td>\n      <td>292.586212</td>\n      <td>2019</td>\n    </tr>\n    <tr>\n      <th>6</th>\n      <td>10</td>\n      <td>287.516439</td>\n      <td>299.930389</td>\n      <td>279.873230</td>\n      <td>2019</td>\n    </tr>\n  </tbody>\n</table>\n<p>126 rows × 5 columns</p>\n</div>"
     },
     "execution_count": 217,
     "metadata": {},
     "output_type": "execute_result"
    }
   ],
   "source": [
    "t2m_df_year"
   ],
   "metadata": {
    "collapsed": false,
    "pycharm": {
     "name": "#%%\n"
    }
   }
  },
  {
   "cell_type": "code",
   "execution_count": 218,
   "outputs": [],
   "source": [
    "filtered_year_t2m = t2m_df_year[t2m_df_year[\"year\"] == 2001]\n"
   ],
   "metadata": {
    "collapsed": false,
    "pycharm": {
     "name": "#%%\n"
    }
   }
  },
  {
   "cell_type": "code",
   "execution_count": 219,
   "outputs": [
    {
     "data": {
      "text/plain": "Index(['mean', 'max', 'min'], dtype='object')"
     },
     "execution_count": 219,
     "metadata": {},
     "output_type": "execute_result"
    }
   ],
   "source": [
    "columns = t2m_df_year.columns[1:-1]\n",
    "columns"
   ],
   "metadata": {
    "collapsed": false,
    "pycharm": {
     "name": "#%%\n"
    }
   }
  },
  {
   "cell_type": "code",
   "execution_count": 220,
   "outputs": [],
   "source": [
    "month_number_columns = [\"month_\" + str(x) for x in list(filtered_year_t2m[\"month\"])]\n",
    "month_number_mean_columns = [x + \"_mean\" for x in month_number_columns]\n",
    "month_number_max_columns = [x + \"_max\" for x in month_number_columns]\n",
    "month_number_min_columns = [x + \"_min\" for x in month_number_columns]"
   ],
   "metadata": {
    "collapsed": false,
    "pycharm": {
     "name": "#%%\n"
    }
   }
  },
  {
   "cell_type": "code",
   "execution_count": 221,
   "outputs": [],
   "source": [
    "columns_to_filter = [\"mean\", \"max\", \"min\"]\n",
    "\n",
    "concatenated_dataframe = pd.DataFrame()\n",
    "for column in columns_to_filter:\n",
    "    temporary_dataframe = pd.DataFrame(filtered_year_t2m[column]).T\n",
    "    if column == \"mean\":\n",
    "        temporary_dataframe.columns = [month_number_mean_columns]\n",
    "    elif column == \"max\":\n",
    "        temporary_dataframe.columns = [month_number_max_columns]\n",
    "    else:\n",
    "        temporary_dataframe.columns = [month_number_min_columns]\n",
    "    temporary_dataframe.reset_index(inplace=True, drop=True)\n",
    "    concatenated_dataframe = pd.concat([concatenated_dataframe, temporary_dataframe], axis=1)"
   ],
   "metadata": {
    "collapsed": false,
    "pycharm": {
     "name": "#%%\n"
    }
   }
  },
  {
   "cell_type": "code",
   "execution_count": 222,
   "outputs": [
    {
     "data": {
      "text/plain": "  month_4_mean month_5_mean month_6_mean month_7_mean month_8_mean  \\\n0   284.721191   292.893361   294.788015   299.964467   300.005168   \n\n  month_9_mean month_10_mean month_4_max month_5_max month_6_max  ...  \\\n0   288.825755    282.702779  288.360535  297.142029  300.558502  ...   \n\n  month_8_max month_9_max month_10_max month_4_min month_5_min month_6_min  \\\n0  304.584869  292.582947    288.78476  277.901306  289.013763  283.385223   \n\n  month_7_min month_8_min month_9_min month_10_min  \n0  296.612518  296.614105   286.72699   276.030762  \n\n[1 rows x 21 columns]",
      "text/html": "<div>\n<style scoped>\n    .dataframe tbody tr th:only-of-type {\n        vertical-align: middle;\n    }\n\n    .dataframe tbody tr th {\n        vertical-align: top;\n    }\n\n    .dataframe thead tr th {\n        text-align: left;\n    }\n</style>\n<table border=\"1\" class=\"dataframe\">\n  <thead>\n    <tr>\n      <th></th>\n      <th>month_4_mean</th>\n      <th>month_5_mean</th>\n      <th>month_6_mean</th>\n      <th>month_7_mean</th>\n      <th>month_8_mean</th>\n      <th>month_9_mean</th>\n      <th>month_10_mean</th>\n      <th>month_4_max</th>\n      <th>month_5_max</th>\n      <th>month_6_max</th>\n      <th>...</th>\n      <th>month_8_max</th>\n      <th>month_9_max</th>\n      <th>month_10_max</th>\n      <th>month_4_min</th>\n      <th>month_5_min</th>\n      <th>month_6_min</th>\n      <th>month_7_min</th>\n      <th>month_8_min</th>\n      <th>month_9_min</th>\n      <th>month_10_min</th>\n    </tr>\n  </thead>\n  <tbody>\n    <tr>\n      <th>0</th>\n      <td>284.721191</td>\n      <td>292.893361</td>\n      <td>294.788015</td>\n      <td>299.964467</td>\n      <td>300.005168</td>\n      <td>288.825755</td>\n      <td>282.702779</td>\n      <td>288.360535</td>\n      <td>297.142029</td>\n      <td>300.558502</td>\n      <td>...</td>\n      <td>304.584869</td>\n      <td>292.582947</td>\n      <td>288.78476</td>\n      <td>277.901306</td>\n      <td>289.013763</td>\n      <td>283.385223</td>\n      <td>296.612518</td>\n      <td>296.614105</td>\n      <td>286.72699</td>\n      <td>276.030762</td>\n    </tr>\n  </tbody>\n</table>\n<p>1 rows × 21 columns</p>\n</div>"
     },
     "execution_count": 222,
     "metadata": {},
     "output_type": "execute_result"
    }
   ],
   "source": [
    "concatenated_dataframe.shape\n",
    "concatenated_dataframe"
   ],
   "metadata": {
    "collapsed": false,
    "pycharm": {
     "name": "#%%\n"
    }
   }
  },
  {
   "cell_type": "code",
   "execution_count": 191,
   "outputs": [],
   "source": [
    "APRIL_TO_OCTOBER = [4, 5, 6, 7, 8, 9, 10]\n",
    "MONTH_NUMBER_COLUMNS = [\"month_\" + str(x) for x in APRIL_TO_OCTOBER]\n",
    "MONTH_NUMBER_MEAN_COLUMNS = [x + \"_mean\" for x in MONTH_NUMBER_COLUMNS]\n",
    "MONTH_NUMBER_MAX_COLUMNS = [x + \"_max\" for x in MONTH_NUMBER_COLUMNS]\n",
    "MONTH_NUMBER_MIN_COLUMNS = [x + \"_min\" for x in MONTH_NUMBER_COLUMNS]\n",
    "COLUMNS_TO_FILTER = [\"mean\", \"max\", \"min\"]\n",
    "\n",
    "def make_1_by_21_dataframe(dataframe):\n",
    "    \"\"\"\n",
    "\n",
    "    @param dataframe:\n",
    "    @return:\n",
    "    \"\"\"\n",
    "    concatenated_dataframe = pd.DataFrame()\n",
    "    for column in COLUMNS_TO_FILTER:\n",
    "        temporary_dataframe = pd.DataFrame(dataframe[column]).T\n",
    "        if column == \"mean\":\n",
    "            temporary_dataframe.columns = [MONTH_NUMBER_MEAN_COLUMNS]\n",
    "        elif column == \"max\":\n",
    "            temporary_dataframe.columns = [MONTH_NUMBER_MAX_COLUMNS]\n",
    "        else:\n",
    "            temporary_dataframe.columns = [MONTH_NUMBER_MIN_COLUMNS]\n",
    "        temporary_dataframe.reset_index(inplace=True, drop=True)\n",
    "        concatenated_dataframe = pd.concat([concatenated_dataframe, temporary_dataframe], axis=1)\n",
    "    return concatenated_dataframe\n"
   ],
   "metadata": {
    "collapsed": false,
    "pycharm": {
     "name": "#%%\n"
    }
   }
  },
  {
   "cell_type": "code",
   "execution_count": 245,
   "outputs": [],
   "source": [
    "import numpy as np\n",
    "APRIL_TO_OCTOBER = [4, 5, 6, 7, 8, 9, 10]\n",
    "MONTH_NUMBER_COLUMNS = [\"month_\" + str(x) for x in APRIL_TO_OCTOBER]\n",
    "MONTH_NUMBER_MEAN_COLUMNS = [x + \"_mean\" for x in MONTH_NUMBER_COLUMNS]\n",
    "MONTH_NUMBER_MAX_COLUMNS = [x + \"_max\" for x in MONTH_NUMBER_COLUMNS]\n",
    "MONTH_NUMBER_MIN_COLUMNS = [x + \"_min\" for x in MONTH_NUMBER_COLUMNS]\n",
    "COLUMNS_TO_FILTER = [\"mean\", \"max\", \"min\"]\n",
    "LIST_2001_TO_2019 = [2001, 2002, 2003, 2004, 2005, 2006, 2007, 2008, 2009, 2010, 2011, 2012,\n",
    "                     2013, 2014, 2015, 2016, 2017, 2018, 2019]\n",
    "\n",
    "def make_1_by_21_dataframe(dataframe):\n",
    "    \"\"\"\n",
    "\n",
    "    @param dataframe:\n",
    "    @return:\n",
    "    \"\"\"\n",
    "    concatenated_dataframe = pd.DataFrame()\n",
    "    for column in COLUMNS_TO_FILTER:\n",
    "        temporary_dataframe = pd.DataFrame(dataframe[column]).T\n",
    "        if column == \"mean\":\n",
    "            temporary_dataframe.columns = [MONTH_NUMBER_MEAN_COLUMNS]\n",
    "        elif column == \"max\":\n",
    "            temporary_dataframe.columns = [MONTH_NUMBER_MAX_COLUMNS]\n",
    "        else:\n",
    "            temporary_dataframe.columns = [MONTH_NUMBER_MIN_COLUMNS]\n",
    "        temporary_dataframe.reset_index(inplace=True, drop=True)\n",
    "        concatenated_dataframe = pd.concat([concatenated_dataframe, temporary_dataframe], axis=1)\n",
    "    return concatenated_dataframe\n",
    "\n",
    "def create_monthly_metric_list(dataframe, column):\n",
    "    \"\"\"\n",
    "\n",
    "    @param dataframe:\n",
    "    @return:\n",
    "    \"\"\"\n",
    "    monthly_mean_metric_list = list(dataframe.groupby(\"month\").mean()[column])\n",
    "    monthly_max_metric_list = list(dataframe.groupby(\"month\").max()[column])\n",
    "    monthly_min_metric_list = list(dataframe.groupby(\"month\").min()[column])\n",
    "    return monthly_mean_metric_list, monthly_max_metric_list, monthly_min_metric_list\n",
    "\n",
    "def create_monthly_metric_dataframe(month_list, monthly_mean_metric_list,\n",
    "                                    monthly_max_metric_list, monthly_min_metric_list, year):\n",
    "    \"\"\"\n",
    "\n",
    "    @param month_list:\n",
    "    @param monthly_mean_metric_list:\n",
    "    @param monthly_max_metric_list:\n",
    "    @param monthly_min_metric_list:\n",
    "    @return:\n",
    "    \"\"\"\n",
    "    monthly_metric_dataframe = pd.DataFrame()\n",
    "    monthly_metric_dataframe[\"month\"] = month_list\n",
    "    try:\n",
    "        monthly_metric_dataframe[\"mean\"] = monthly_mean_metric_list\n",
    "        monthly_metric_dataframe[\"max\"] = monthly_max_metric_list\n",
    "        monthly_metric_dataframe[\"min\"] = monthly_min_metric_list\n",
    "    except:\n",
    "        monthly_metric_dataframe[\"mean\"] = np.nan\n",
    "        monthly_metric_dataframe[\"max\"] = np.nan\n",
    "        monthly_metric_dataframe[\"min\"] = np.nan\n",
    "    monthly_metric_dataframe[\"year\"] = year\n",
    "    return monthly_metric_dataframe\n",
    "\n",
    "def get_county_metric_history(dataframe, column):\n",
    "    \"\"\"\n",
    "\n",
    "    @param dataframe: monthly_metric_dataframe\n",
    "    @return:\n",
    "    \"\"\"\n",
    "    county_metric_history_dataframe = pd.DataFrame()\n",
    "    for year in LIST_2001_TO_2019:\n",
    "        try:\n",
    "            temporary_dataframe = dataframe[dataframe[\"year\"] == year]\n",
    "            monthly_mean_metric_list, monthly_max_metric_list, monthly_min_metric_list = \\\n",
    "                create_monthly_metric_list(temporary_dataframe, column)\n",
    "            monthly_metric_dataframe = create_monthly_metric_dataframe(APRIL_TO_OCTOBER,\n",
    "                                                                       monthly_mean_metric_list,\n",
    "                                                                       monthly_max_metric_list,\n",
    "                                                                       monthly_min_metric_list,\n",
    "                                                                       year)\n",
    "        except:\n",
    "            pass\n",
    "        county_metric_history_dataframe = county_metric_history_dataframe.append\\\n",
    "                (monthly_metric_dataframe)\n",
    "    return county_metric_history_dataframe\n",
    "\n",
    "def create_yearly_1_by_21_dataframe(dataframe):\n",
    "    \"\"\"\n",
    "\n",
    "    @param dataframe: county_metric_history_dataframe\n",
    "    @return:\n",
    "    \"\"\"\n",
    "    yearly_1_by_21_dataframe = pd.DataFrame()\n",
    "    for year in LIST_2001_TO_2019:\n",
    "        temporary_dataframe = dataframe[dataframe[\"year\"] == year]\n",
    "        concatenated_dataframe = make_1_by_21_dataframe(temporary_dataframe)\n",
    "        concatenated_dataframe[\"year\"] = year\n",
    "        yearly_1_by_21_dataframe = yearly_1_by_21_dataframe.append(concatenated_dataframe)\n",
    "    return yearly_1_by_21_dataframe\n",
    "\n",
    "def create_county_yearly_1_by_21_dataframe(dataframe, column, metric):\n",
    "    \"\"\"\n",
    "\n",
    "    @param dataframe:\n",
    "    @param column: column for for-loop\n",
    "    @return:\n",
    "    \"\"\"\n",
    "    county_yearly_1_by_21_dataframe = pd.DataFrame()\n",
    "    for n in list(dataframe[column].unique()):\n",
    "        temporary_dataframe = dataframe[dataframe[column] == n]\n",
    "        county_metric_history_dataframe = get_county_metric_history(temporary_dataframe, metric)\n",
    "        yearly_1_by_21_dataframe = create_yearly_1_by_21_dataframe(county_metric_history_dataframe)\n",
    "        yearly_1_by_21_dataframe[column] = n\n",
    "        county_yearly_1_by_21_dataframe = county_yearly_1_by_21_dataframe.append\\\n",
    "            (yearly_1_by_21_dataframe)\n",
    "    return county_yearly_1_by_21_dataframe"
   ],
   "metadata": {
    "collapsed": false,
    "pycharm": {
     "name": "#%%\n"
    }
   }
  },
  {
   "cell_type": "code",
   "execution_count": 288,
   "outputs": [
    {
     "data": {
      "text/plain": "   month_4_mean month_5_mean month_6_mean month_7_mean month_8_mean  \\\n0    285.832381   294.297239   293.872882   298.844855   299.906551   \n0    284.136558   290.352519   296.349707   302.778060   299.074068   \n0    292.760720   288.676404   295.585685   299.745477   299.708085   \n0    285.571021   286.626823   294.700321   298.129020   296.767053   \n0    286.380654   284.454185   298.727940   300.070789   298.824015   \n..          ...          ...          ...          ...          ...   \n0    291.925323   294.587240   297.188934   302.683462   300.422506   \n0    293.590322   293.022644   301.426737   300.766276   301.256673   \n0    290.812693   297.144124   301.874196   301.217244   299.877248   \n0           NaN          NaN          NaN          NaN          NaN   \n0    284.947550   297.859975   298.237325   302.168365   301.883606   \n\n   month_9_mean month_10_mean month_4_max month_5_max month_6_max  ...  \\\n0    289.426021    282.642635  293.452332  298.438080  300.386566  ...   \n0    292.490265    286.029022  295.027985  295.771240  299.252808  ...   \n0    288.692049    281.721918  299.467346  298.147186  299.094543  ...   \n0    296.059888    286.338981  291.793091  295.898712  299.097107  ...   \n0    294.486420    288.417019  290.985443  288.865784  305.097412  ...   \n..          ...           ...         ...         ...         ...  ...   \n0    298.161530    290.729116  295.180481  296.006439  301.812775  ...   \n0    298.838114    289.392069  293.774078  298.108307  302.323883  ...   \n0    298.016917    290.725576  299.117096  299.754608  304.628876  ...   \n0           NaN           NaN         NaN         NaN         NaN  ...   \n0    301.573354    292.943207  296.087982  302.337463  299.463165  ...   \n\n   month_10_max month_4_min month_5_min month_6_min month_7_min month_8_min  \\\n0    289.680695  275.404816  288.978424  282.576904  296.891327  295.518127   \n0    299.134705  277.517242  285.778870  290.865845  300.266052  295.898193   \n0    286.170166  283.038910  282.178375  289.351257  298.785187  297.303528   \n0    291.315521  280.986450  280.535614  291.679688  297.209808  293.222198   \n0    292.419128  282.666321  281.451141  294.782196  295.401764  296.477722   \n..          ...         ...         ...         ...         ...         ...   \n0    293.037537  290.070496  291.803619  291.162018  301.055267  297.327972   \n0    290.205566  293.470154  287.450226  300.302338  299.573120  298.922394   \n0    299.339325  284.558044  294.043365  299.800140  299.883026  298.550598   \n0           NaN         NaN         NaN         NaN         NaN         NaN   \n0    302.066956  279.044464  292.934113  296.716400  300.225464  300.154419   \n\n   month_9_min month_10_min  year      county  \n0   287.005829   274.866486  2001  JO DAVIESS  \n0   286.046448   275.833893  2002  JO DAVIESS  \n0   284.964111   277.569458  2003  JO DAVIESS  \n0   292.903168   281.603271  2004  JO DAVIESS  \n0   292.492889   280.504242  2005  JO DAVIESS  \n..         ...          ...   ...         ...  \n0   296.321289   287.906555  2015      MASSAC  \n0   295.155823   288.429504  2016      MASSAC  \n0   297.544250   278.540833  2017      MASSAC  \n0          NaN          NaN  2018      MASSAC  \n0   300.539673   287.537994  2019      MASSAC  \n\n[1824 rows x 23 columns]",
      "text/html": "<div>\n<style scoped>\n    .dataframe tbody tr th:only-of-type {\n        vertical-align: middle;\n    }\n\n    .dataframe tbody tr th {\n        vertical-align: top;\n    }\n\n    .dataframe thead tr th {\n        text-align: left;\n    }\n</style>\n<table border=\"1\" class=\"dataframe\">\n  <thead>\n    <tr>\n      <th></th>\n      <th>month_4_mean</th>\n      <th>month_5_mean</th>\n      <th>month_6_mean</th>\n      <th>month_7_mean</th>\n      <th>month_8_mean</th>\n      <th>month_9_mean</th>\n      <th>month_10_mean</th>\n      <th>month_4_max</th>\n      <th>month_5_max</th>\n      <th>month_6_max</th>\n      <th>...</th>\n      <th>month_10_max</th>\n      <th>month_4_min</th>\n      <th>month_5_min</th>\n      <th>month_6_min</th>\n      <th>month_7_min</th>\n      <th>month_8_min</th>\n      <th>month_9_min</th>\n      <th>month_10_min</th>\n      <th>year</th>\n      <th>county</th>\n    </tr>\n  </thead>\n  <tbody>\n    <tr>\n      <th>0</th>\n      <td>285.832381</td>\n      <td>294.297239</td>\n      <td>293.872882</td>\n      <td>298.844855</td>\n      <td>299.906551</td>\n      <td>289.426021</td>\n      <td>282.642635</td>\n      <td>293.452332</td>\n      <td>298.438080</td>\n      <td>300.386566</td>\n      <td>...</td>\n      <td>289.680695</td>\n      <td>275.404816</td>\n      <td>288.978424</td>\n      <td>282.576904</td>\n      <td>296.891327</td>\n      <td>295.518127</td>\n      <td>287.005829</td>\n      <td>274.866486</td>\n      <td>2001</td>\n      <td>JO DAVIESS</td>\n    </tr>\n    <tr>\n      <th>0</th>\n      <td>284.136558</td>\n      <td>290.352519</td>\n      <td>296.349707</td>\n      <td>302.778060</td>\n      <td>299.074068</td>\n      <td>292.490265</td>\n      <td>286.029022</td>\n      <td>295.027985</td>\n      <td>295.771240</td>\n      <td>299.252808</td>\n      <td>...</td>\n      <td>299.134705</td>\n      <td>277.517242</td>\n      <td>285.778870</td>\n      <td>290.865845</td>\n      <td>300.266052</td>\n      <td>295.898193</td>\n      <td>286.046448</td>\n      <td>275.833893</td>\n      <td>2002</td>\n      <td>JO DAVIESS</td>\n    </tr>\n    <tr>\n      <th>0</th>\n      <td>292.760720</td>\n      <td>288.676404</td>\n      <td>295.585685</td>\n      <td>299.745477</td>\n      <td>299.708085</td>\n      <td>288.692049</td>\n      <td>281.721918</td>\n      <td>299.467346</td>\n      <td>298.147186</td>\n      <td>299.094543</td>\n      <td>...</td>\n      <td>286.170166</td>\n      <td>283.038910</td>\n      <td>282.178375</td>\n      <td>289.351257</td>\n      <td>298.785187</td>\n      <td>297.303528</td>\n      <td>284.964111</td>\n      <td>277.569458</td>\n      <td>2003</td>\n      <td>JO DAVIESS</td>\n    </tr>\n    <tr>\n      <th>0</th>\n      <td>285.571021</td>\n      <td>286.626823</td>\n      <td>294.700321</td>\n      <td>298.129020</td>\n      <td>296.767053</td>\n      <td>296.059888</td>\n      <td>286.338981</td>\n      <td>291.793091</td>\n      <td>295.898712</td>\n      <td>299.097107</td>\n      <td>...</td>\n      <td>291.315521</td>\n      <td>280.986450</td>\n      <td>280.535614</td>\n      <td>291.679688</td>\n      <td>297.209808</td>\n      <td>293.222198</td>\n      <td>292.903168</td>\n      <td>281.603271</td>\n      <td>2004</td>\n      <td>JO DAVIESS</td>\n    </tr>\n    <tr>\n      <th>0</th>\n      <td>286.380654</td>\n      <td>284.454185</td>\n      <td>298.727940</td>\n      <td>300.070789</td>\n      <td>298.824015</td>\n      <td>294.486420</td>\n      <td>288.417019</td>\n      <td>290.985443</td>\n      <td>288.865784</td>\n      <td>305.097412</td>\n      <td>...</td>\n      <td>292.419128</td>\n      <td>282.666321</td>\n      <td>281.451141</td>\n      <td>294.782196</td>\n      <td>295.401764</td>\n      <td>296.477722</td>\n      <td>292.492889</td>\n      <td>280.504242</td>\n      <td>2005</td>\n      <td>JO DAVIESS</td>\n    </tr>\n    <tr>\n      <th>...</th>\n      <td>...</td>\n      <td>...</td>\n      <td>...</td>\n      <td>...</td>\n      <td>...</td>\n      <td>...</td>\n      <td>...</td>\n      <td>...</td>\n      <td>...</td>\n      <td>...</td>\n      <td>...</td>\n      <td>...</td>\n      <td>...</td>\n      <td>...</td>\n      <td>...</td>\n      <td>...</td>\n      <td>...</td>\n      <td>...</td>\n      <td>...</td>\n      <td>...</td>\n      <td>...</td>\n    </tr>\n    <tr>\n      <th>0</th>\n      <td>291.925323</td>\n      <td>294.587240</td>\n      <td>297.188934</td>\n      <td>302.683462</td>\n      <td>300.422506</td>\n      <td>298.161530</td>\n      <td>290.729116</td>\n      <td>295.180481</td>\n      <td>296.006439</td>\n      <td>301.812775</td>\n      <td>...</td>\n      <td>293.037537</td>\n      <td>290.070496</td>\n      <td>291.803619</td>\n      <td>291.162018</td>\n      <td>301.055267</td>\n      <td>297.327972</td>\n      <td>296.321289</td>\n      <td>287.906555</td>\n      <td>2015</td>\n      <td>MASSAC</td>\n    </tr>\n    <tr>\n      <th>0</th>\n      <td>293.590322</td>\n      <td>293.022644</td>\n      <td>301.426737</td>\n      <td>300.766276</td>\n      <td>301.256673</td>\n      <td>298.838114</td>\n      <td>289.392069</td>\n      <td>293.774078</td>\n      <td>298.108307</td>\n      <td>302.323883</td>\n      <td>...</td>\n      <td>290.205566</td>\n      <td>293.470154</td>\n      <td>287.450226</td>\n      <td>300.302338</td>\n      <td>299.573120</td>\n      <td>298.922394</td>\n      <td>295.155823</td>\n      <td>288.429504</td>\n      <td>2016</td>\n      <td>MASSAC</td>\n    </tr>\n    <tr>\n      <th>0</th>\n      <td>290.812693</td>\n      <td>297.144124</td>\n      <td>301.874196</td>\n      <td>301.217244</td>\n      <td>299.877248</td>\n      <td>298.016917</td>\n      <td>290.725576</td>\n      <td>299.117096</td>\n      <td>299.754608</td>\n      <td>304.628876</td>\n      <td>...</td>\n      <td>299.339325</td>\n      <td>284.558044</td>\n      <td>294.043365</td>\n      <td>299.800140</td>\n      <td>299.883026</td>\n      <td>298.550598</td>\n      <td>297.544250</td>\n      <td>278.540833</td>\n      <td>2017</td>\n      <td>MASSAC</td>\n    </tr>\n    <tr>\n      <th>0</th>\n      <td>NaN</td>\n      <td>NaN</td>\n      <td>NaN</td>\n      <td>NaN</td>\n      <td>NaN</td>\n      <td>NaN</td>\n      <td>NaN</td>\n      <td>NaN</td>\n      <td>NaN</td>\n      <td>NaN</td>\n      <td>...</td>\n      <td>NaN</td>\n      <td>NaN</td>\n      <td>NaN</td>\n      <td>NaN</td>\n      <td>NaN</td>\n      <td>NaN</td>\n      <td>NaN</td>\n      <td>NaN</td>\n      <td>2018</td>\n      <td>MASSAC</td>\n    </tr>\n    <tr>\n      <th>0</th>\n      <td>284.947550</td>\n      <td>297.859975</td>\n      <td>298.237325</td>\n      <td>302.168365</td>\n      <td>301.883606</td>\n      <td>301.573354</td>\n      <td>292.943207</td>\n      <td>296.087982</td>\n      <td>302.337463</td>\n      <td>299.463165</td>\n      <td>...</td>\n      <td>302.066956</td>\n      <td>279.044464</td>\n      <td>292.934113</td>\n      <td>296.716400</td>\n      <td>300.225464</td>\n      <td>300.154419</td>\n      <td>300.539673</td>\n      <td>287.537994</td>\n      <td>2019</td>\n      <td>MASSAC</td>\n    </tr>\n  </tbody>\n</table>\n<p>1824 rows × 23 columns</p>\n</div>"
     },
     "execution_count": 288,
     "metadata": {},
     "output_type": "execute_result"
    }
   ],
   "source": [
    "country_yearly_evi_dataframe = create_county_yearly_1_by_21_dataframe(era5, \"county\", \"t2m\")\n",
    "country_yearly_evi_dataframe"
   ],
   "metadata": {
    "collapsed": false,
    "pycharm": {
     "name": "#%%\n"
    }
   }
  },
  {
   "cell_type": "code",
   "execution_count": 289,
   "outputs": [
    {
     "data": {
      "text/plain": "    t2m_month_4_mean  t2m_month_5_mean  t2m_month_6_mean  t2m_month_7_mean  \\\n0         285.832381        294.297239        293.872882        298.844855   \n0         284.136558        290.352519        296.349707        302.778060   \n0         292.760720        288.676404        295.585685        299.745477   \n0         285.571021        286.626823        294.700321        298.129020   \n0         286.380654        284.454185        298.727940        300.070789   \n..               ...               ...               ...               ...   \n0         291.925323        294.587240        297.188934        302.683462   \n0         293.590322        293.022644        301.426737        300.766276   \n0         290.812693        297.144124        301.874196        301.217244   \n0                NaN               NaN               NaN               NaN   \n0         284.947550        297.859975        298.237325        302.168365   \n\n    t2m_month_8_mean  t2m_month_9_mean  t2m_month_10_mean  t2m_month_4_max  \\\n0         299.906551        289.426021         282.642635       293.452332   \n0         299.074068        292.490265         286.029022       295.027985   \n0         299.708085        288.692049         281.721918       299.467346   \n0         296.767053        296.059888         286.338981       291.793091   \n0         298.824015        294.486420         288.417019       290.985443   \n..               ...               ...                ...              ...   \n0         300.422506        298.161530         290.729116       295.180481   \n0         301.256673        298.838114         289.392069       293.774078   \n0         299.877248        298.016917         290.725576       299.117096   \n0                NaN               NaN                NaN              NaN   \n0         301.883606        301.573354         292.943207       296.087982   \n\n    t2m_month_5_max  t2m_month_6_max  ...  t2m_month_10_max  t2m_month_4_min  \\\n0        298.438080       300.386566  ...        289.680695       275.404816   \n0        295.771240       299.252808  ...        299.134705       277.517242   \n0        298.147186       299.094543  ...        286.170166       283.038910   \n0        295.898712       299.097107  ...        291.315521       280.986450   \n0        288.865784       305.097412  ...        292.419128       282.666321   \n..              ...              ...  ...               ...              ...   \n0        296.006439       301.812775  ...        293.037537       290.070496   \n0        298.108307       302.323883  ...        290.205566       293.470154   \n0        299.754608       304.628876  ...        299.339325       284.558044   \n0               NaN              NaN  ...               NaN              NaN   \n0        302.337463       299.463165  ...        302.066956       279.044464   \n\n    t2m_month_5_min  t2m_month_6_min  t2m_month_7_min  t2m_month_8_min  \\\n0        288.978424       282.576904       296.891327       295.518127   \n0        285.778870       290.865845       300.266052       295.898193   \n0        282.178375       289.351257       298.785187       297.303528   \n0        280.535614       291.679688       297.209808       293.222198   \n0        281.451141       294.782196       295.401764       296.477722   \n..              ...              ...              ...              ...   \n0        291.803619       291.162018       301.055267       297.327972   \n0        287.450226       300.302338       299.573120       298.922394   \n0        294.043365       299.800140       299.883026       298.550598   \n0               NaN              NaN              NaN              NaN   \n0        292.934113       296.716400       300.225464       300.154419   \n\n    t2m_month_9_min  t2m_month_10_min  year      county  \n0        287.005829        274.866486  2001  JO DAVIESS  \n0        286.046448        275.833893  2002  JO DAVIESS  \n0        284.964111        277.569458  2003  JO DAVIESS  \n0        292.903168        281.603271  2004  JO DAVIESS  \n0        292.492889        280.504242  2005  JO DAVIESS  \n..              ...               ...   ...         ...  \n0        296.321289        287.906555  2015      MASSAC  \n0        295.155823        288.429504  2016      MASSAC  \n0        297.544250        278.540833  2017      MASSAC  \n0               NaN               NaN  2018      MASSAC  \n0        300.539673        287.537994  2019      MASSAC  \n\n[1824 rows x 23 columns]",
      "text/html": "<div>\n<style scoped>\n    .dataframe tbody tr th:only-of-type {\n        vertical-align: middle;\n    }\n\n    .dataframe tbody tr th {\n        vertical-align: top;\n    }\n\n    .dataframe thead th {\n        text-align: right;\n    }\n</style>\n<table border=\"1\" class=\"dataframe\">\n  <thead>\n    <tr style=\"text-align: right;\">\n      <th></th>\n      <th>t2m_month_4_mean</th>\n      <th>t2m_month_5_mean</th>\n      <th>t2m_month_6_mean</th>\n      <th>t2m_month_7_mean</th>\n      <th>t2m_month_8_mean</th>\n      <th>t2m_month_9_mean</th>\n      <th>t2m_month_10_mean</th>\n      <th>t2m_month_4_max</th>\n      <th>t2m_month_5_max</th>\n      <th>t2m_month_6_max</th>\n      <th>...</th>\n      <th>t2m_month_10_max</th>\n      <th>t2m_month_4_min</th>\n      <th>t2m_month_5_min</th>\n      <th>t2m_month_6_min</th>\n      <th>t2m_month_7_min</th>\n      <th>t2m_month_8_min</th>\n      <th>t2m_month_9_min</th>\n      <th>t2m_month_10_min</th>\n      <th>year</th>\n      <th>county</th>\n    </tr>\n  </thead>\n  <tbody>\n    <tr>\n      <th>0</th>\n      <td>285.832381</td>\n      <td>294.297239</td>\n      <td>293.872882</td>\n      <td>298.844855</td>\n      <td>299.906551</td>\n      <td>289.426021</td>\n      <td>282.642635</td>\n      <td>293.452332</td>\n      <td>298.438080</td>\n      <td>300.386566</td>\n      <td>...</td>\n      <td>289.680695</td>\n      <td>275.404816</td>\n      <td>288.978424</td>\n      <td>282.576904</td>\n      <td>296.891327</td>\n      <td>295.518127</td>\n      <td>287.005829</td>\n      <td>274.866486</td>\n      <td>2001</td>\n      <td>JO DAVIESS</td>\n    </tr>\n    <tr>\n      <th>0</th>\n      <td>284.136558</td>\n      <td>290.352519</td>\n      <td>296.349707</td>\n      <td>302.778060</td>\n      <td>299.074068</td>\n      <td>292.490265</td>\n      <td>286.029022</td>\n      <td>295.027985</td>\n      <td>295.771240</td>\n      <td>299.252808</td>\n      <td>...</td>\n      <td>299.134705</td>\n      <td>277.517242</td>\n      <td>285.778870</td>\n      <td>290.865845</td>\n      <td>300.266052</td>\n      <td>295.898193</td>\n      <td>286.046448</td>\n      <td>275.833893</td>\n      <td>2002</td>\n      <td>JO DAVIESS</td>\n    </tr>\n    <tr>\n      <th>0</th>\n      <td>292.760720</td>\n      <td>288.676404</td>\n      <td>295.585685</td>\n      <td>299.745477</td>\n      <td>299.708085</td>\n      <td>288.692049</td>\n      <td>281.721918</td>\n      <td>299.467346</td>\n      <td>298.147186</td>\n      <td>299.094543</td>\n      <td>...</td>\n      <td>286.170166</td>\n      <td>283.038910</td>\n      <td>282.178375</td>\n      <td>289.351257</td>\n      <td>298.785187</td>\n      <td>297.303528</td>\n      <td>284.964111</td>\n      <td>277.569458</td>\n      <td>2003</td>\n      <td>JO DAVIESS</td>\n    </tr>\n    <tr>\n      <th>0</th>\n      <td>285.571021</td>\n      <td>286.626823</td>\n      <td>294.700321</td>\n      <td>298.129020</td>\n      <td>296.767053</td>\n      <td>296.059888</td>\n      <td>286.338981</td>\n      <td>291.793091</td>\n      <td>295.898712</td>\n      <td>299.097107</td>\n      <td>...</td>\n      <td>291.315521</td>\n      <td>280.986450</td>\n      <td>280.535614</td>\n      <td>291.679688</td>\n      <td>297.209808</td>\n      <td>293.222198</td>\n      <td>292.903168</td>\n      <td>281.603271</td>\n      <td>2004</td>\n      <td>JO DAVIESS</td>\n    </tr>\n    <tr>\n      <th>0</th>\n      <td>286.380654</td>\n      <td>284.454185</td>\n      <td>298.727940</td>\n      <td>300.070789</td>\n      <td>298.824015</td>\n      <td>294.486420</td>\n      <td>288.417019</td>\n      <td>290.985443</td>\n      <td>288.865784</td>\n      <td>305.097412</td>\n      <td>...</td>\n      <td>292.419128</td>\n      <td>282.666321</td>\n      <td>281.451141</td>\n      <td>294.782196</td>\n      <td>295.401764</td>\n      <td>296.477722</td>\n      <td>292.492889</td>\n      <td>280.504242</td>\n      <td>2005</td>\n      <td>JO DAVIESS</td>\n    </tr>\n    <tr>\n      <th>...</th>\n      <td>...</td>\n      <td>...</td>\n      <td>...</td>\n      <td>...</td>\n      <td>...</td>\n      <td>...</td>\n      <td>...</td>\n      <td>...</td>\n      <td>...</td>\n      <td>...</td>\n      <td>...</td>\n      <td>...</td>\n      <td>...</td>\n      <td>...</td>\n      <td>...</td>\n      <td>...</td>\n      <td>...</td>\n      <td>...</td>\n      <td>...</td>\n      <td>...</td>\n      <td>...</td>\n    </tr>\n    <tr>\n      <th>0</th>\n      <td>291.925323</td>\n      <td>294.587240</td>\n      <td>297.188934</td>\n      <td>302.683462</td>\n      <td>300.422506</td>\n      <td>298.161530</td>\n      <td>290.729116</td>\n      <td>295.180481</td>\n      <td>296.006439</td>\n      <td>301.812775</td>\n      <td>...</td>\n      <td>293.037537</td>\n      <td>290.070496</td>\n      <td>291.803619</td>\n      <td>291.162018</td>\n      <td>301.055267</td>\n      <td>297.327972</td>\n      <td>296.321289</td>\n      <td>287.906555</td>\n      <td>2015</td>\n      <td>MASSAC</td>\n    </tr>\n    <tr>\n      <th>0</th>\n      <td>293.590322</td>\n      <td>293.022644</td>\n      <td>301.426737</td>\n      <td>300.766276</td>\n      <td>301.256673</td>\n      <td>298.838114</td>\n      <td>289.392069</td>\n      <td>293.774078</td>\n      <td>298.108307</td>\n      <td>302.323883</td>\n      <td>...</td>\n      <td>290.205566</td>\n      <td>293.470154</td>\n      <td>287.450226</td>\n      <td>300.302338</td>\n      <td>299.573120</td>\n      <td>298.922394</td>\n      <td>295.155823</td>\n      <td>288.429504</td>\n      <td>2016</td>\n      <td>MASSAC</td>\n    </tr>\n    <tr>\n      <th>0</th>\n      <td>290.812693</td>\n      <td>297.144124</td>\n      <td>301.874196</td>\n      <td>301.217244</td>\n      <td>299.877248</td>\n      <td>298.016917</td>\n      <td>290.725576</td>\n      <td>299.117096</td>\n      <td>299.754608</td>\n      <td>304.628876</td>\n      <td>...</td>\n      <td>299.339325</td>\n      <td>284.558044</td>\n      <td>294.043365</td>\n      <td>299.800140</td>\n      <td>299.883026</td>\n      <td>298.550598</td>\n      <td>297.544250</td>\n      <td>278.540833</td>\n      <td>2017</td>\n      <td>MASSAC</td>\n    </tr>\n    <tr>\n      <th>0</th>\n      <td>NaN</td>\n      <td>NaN</td>\n      <td>NaN</td>\n      <td>NaN</td>\n      <td>NaN</td>\n      <td>NaN</td>\n      <td>NaN</td>\n      <td>NaN</td>\n      <td>NaN</td>\n      <td>NaN</td>\n      <td>...</td>\n      <td>NaN</td>\n      <td>NaN</td>\n      <td>NaN</td>\n      <td>NaN</td>\n      <td>NaN</td>\n      <td>NaN</td>\n      <td>NaN</td>\n      <td>NaN</td>\n      <td>2018</td>\n      <td>MASSAC</td>\n    </tr>\n    <tr>\n      <th>0</th>\n      <td>284.947550</td>\n      <td>297.859975</td>\n      <td>298.237325</td>\n      <td>302.168365</td>\n      <td>301.883606</td>\n      <td>301.573354</td>\n      <td>292.943207</td>\n      <td>296.087982</td>\n      <td>302.337463</td>\n      <td>299.463165</td>\n      <td>...</td>\n      <td>302.066956</td>\n      <td>279.044464</td>\n      <td>292.934113</td>\n      <td>296.716400</td>\n      <td>300.225464</td>\n      <td>300.154419</td>\n      <td>300.539673</td>\n      <td>287.537994</td>\n      <td>2019</td>\n      <td>MASSAC</td>\n    </tr>\n  </tbody>\n</table>\n<p>1824 rows × 23 columns</p>\n</div>"
     },
     "execution_count": 289,
     "metadata": {},
     "output_type": "execute_result"
    }
   ],
   "source": [
    "country_yearly_evi_dataframe.columns=country_yearly_evi_dataframe.columns.get_level_values(0).map\\\n",
    "    (lambda x : \"t2m_\" + x if x !='year' and x!='county' else x)\n",
    "country_yearly_evi_dataframe"
   ],
   "metadata": {
    "collapsed": false,
    "pycharm": {
     "name": "#%%\n"
    }
   }
  },
  {
   "cell_type": "code",
   "execution_count": 290,
   "outputs": [],
   "source": [
    "country_yearly_evi_dataframe.to_csv(\"../data/interim/country_yearly_t2m_1_by_n.csv\")"
   ],
   "metadata": {
    "collapsed": false,
    "pycharm": {
     "name": "#%%\n"
    }
   }
  },
  {
   "cell_type": "code",
   "execution_count": null,
   "outputs": [],
   "source": [],
   "metadata": {
    "collapsed": false,
    "pycharm": {
     "name": "#%%\n"
    }
   }
  }
 ],
 "metadata": {
  "kernelspec": {
   "display_name": "Python 3",
   "language": "python",
   "name": "python3"
  },
  "language_info": {
   "codemirror_mode": {
    "name": "ipython",
    "version": 2
   },
   "file_extension": ".py",
   "mimetype": "text/x-python",
   "name": "python",
   "nbconvert_exporter": "python",
   "pygments_lexer": "ipython2",
   "version": "2.7.6"
  }
 },
 "nbformat": 4,
 "nbformat_minor": 0
}